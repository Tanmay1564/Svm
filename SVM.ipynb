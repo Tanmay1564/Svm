{
  "nbformat": 4,
  "nbformat_minor": 0,
  "metadata": {
    "colab": {
      "provenance": []
    },
    "kernelspec": {
      "name": "python3",
      "display_name": "Python 3"
    },
    "language_info": {
      "name": "python"
    }
  },
  "cells": [
    {
      "cell_type": "markdown",
      "source": [
        " What is a Support Vector Machine (SVM)?\n",
        " - A Support Vector Machine (SVM) is a supervised machine learning algorithm used for classification and regression tasks though it’s most commonly used for classification."
      ],
      "metadata": {
        "id": "rCANx5ReBAxQ"
      }
    },
    {
      "cell_type": "markdown",
      "source": [
        "What is the difference between Hard Margin and Soft Margin SVM ?\n",
        "- In Support Vector Machines (SVMs), the concepts of Hard Margin and Soft Margin define how strictly the algorithm separates data points into classes."
      ],
      "metadata": {
        "id": "DJ24CY6HBXYx"
      }
    },
    {
      "cell_type": "markdown",
      "source": [
        "What is the mathematical intuition behind SVM\n",
        "- SVM tries to find the best separating hyperplane between two classes in an n-dimensional space.\n",
        "- SVM doesn’t just separate the classes but it finds the widest possible margin between them.\n",
        "    - w⋅x+b=0"
      ],
      "metadata": {
        "id": "W_oPvcJ4BoJV"
      }
    },
    {
      "cell_type": "markdown",
      "source": [
        "What is the role of Lagrange Multipliers in SVM\n",
        "- In SVM, we want to maximize the margin between two classes while ensuring all points are correctly classified.\n",
        "- This means each point must lie on or outside its class boundary."
      ],
      "metadata": {
        "id": "5dpKusupCDC_"
      }
    },
    {
      "cell_type": "markdown",
      "source": [
        " What are Support Vectors in SVM\n",
        " - Support Vectors are the data points that lie closest to the decision boundary (hyperplane) in a Support Vector Machine (SVM).\n",
        " - It Define the position and orientation of the hyperplane.\n",
        " - Determine the margin width (distance between the separating boundary and the nearest data points)."
      ],
      "metadata": {
        "id": "cyRqUH-7C8dE"
      }
    },
    {
      "cell_type": "markdown",
      "source": [
        " What is a Support Vector Classifier (SVC)\n",
        " - A Support Vector Classifier (SVC) is the practical implementation of the Support Vector Machine (SVM) algorithm used for classification tasks."
      ],
      "metadata": {
        "id": "5s_Iz9r-DXol"
      }
    },
    {
      "cell_type": "markdown",
      "source": [
        "What is a Support Vector Regressor (SVR)\n",
        "- SVR tries to fit the best line (or curve) that predicts a continuous value — while keeping most predictions within a certain tolerance margin (ε)."
      ],
      "metadata": {
        "id": "JG6ktL4pDn46"
      }
    },
    {
      "cell_type": "markdown",
      "source": [
        "What is the Kernel Trick in SVM\n",
        "- The Kernel Trick allows SVMs to project data into a higher-dimensional space, where it becomes linearly separable — without actually computing that projection explicitly.\n",
        "- Instead of transforming the data manually, we use a kernel function that computes the dot product in higher dimensions directly."
      ],
      "metadata": {
        "id": "W0FHdMhtD3o-"
      }
    },
    {
      "cell_type": "markdown",
      "source": [
        " Compare Linear Kernel, Polynomial Kernel, and RBF Kernel:\n",
        "- Linear Kernel\n",
        "   - Creates a straight-line or flat hyperplane separator.\n",
        "   - Works when features are already linearly related.\n",
        "   - Equation:\n",
        "     - K(xi​,xj​)=xi​⋅xj​    \n",
        "   - Simple and efficient.\n",
        "- Polynomial Kernel\n",
        "   - Adds polynomial interaction between features.\n",
        "   - Allows curved decision boundaries.\n",
        "   - Equation:\n",
        "      - K(xi​,xj​)=(γxi​⋅xj​+r)d\n",
        "    - Can model feature interactions.\n",
        "- RBF (Radial Basis Function / Gaussian) Kernel\n",
        "   - Maps data into infinite-dimensional space implicitly!\n",
        "   - Creates highly flexible, curved boundaries.\n",
        "   - Equation:\n",
        "      - K(xi​,xj​)=e−γ∥xi​−xj​∥2\n",
        "   - Smooth, flexible, wavy boundary adapting to complex data"
      ],
      "metadata": {
        "id": "WIafF7y3EKCk"
      }
    },
    {
      "cell_type": "markdown",
      "source": [
        "What is the effect of the C parameter in SVM\n",
        "- In SVM, the C parameter is a regularization parameter that controls the trade-off between maximizing the margin (simplicity) and minimizing classification error (accuracy on training data).\n",
        "   - Controls the trade-off\n",
        "   - Impact on support vectors\n",
        "   - Effect on model complexity\n",
        "   - Generalization"
      ],
      "metadata": {
        "id": "YrzbPPabFeVV"
      }
    },
    {
      "cell_type": "markdown",
      "source": [
        "What is the role of the Gamma parameter in RBF Kernel SVM\n",
        "- Gamma (γ) controls the influence of a single training point on the decision boundary.\n",
        "- It determines the reach of each support vector: how far its effect spreads in the feature space."
      ],
      "metadata": {
        "id": "wymuenbjGM6j"
      }
    },
    {
      "cell_type": "markdown",
      "source": [
        "What is the Naïve Bayes classifier, and why is it called \"Naïve\"\n",
        "- Naïve Bayes (NB) is a probabilistic machine learning algorithm used for classification tasks.\n",
        "- It is based on Bayes’ Theorem:\n",
        "    - P(C∣X)=P(X)P(X∣C)⋅P(C)​\n",
        "- All features are conditionally independent given the class.\n",
        "- In real life, features are often correlated, so this assumption is usually not true ,hence the term “naïve.”"
      ],
      "metadata": {
        "id": "xNbj0lRcHLMi"
      }
    },
    {
      "cell_type": "markdown",
      "source": [
        "What is Bayes’ Theorem\n",
        "- Bayes’ Theorem is a principle in probability theory that describes how to update the probability of an event based on new evidence.\n",
        "- Mathematically:\n",
        "    - P(A∣B)=P(B)P(B∣A)⋅P(A)​"
      ],
      "metadata": {
        "id": "byYfu0OAIBrD"
      }
    },
    {
      "cell_type": "markdown",
      "source": [
        "Explain the differences between Gaussian Naïve Bayes, Multinomial Naïve Bayes, and Bernoulli Naïve Bayes\n",
        "- Gaussian Naïve Bayes (GNB)\n",
        "  - Use Case: Continuous numerical features\n",
        "  - Assumption: Features follow a Gaussian (normal) distribution\n",
        "  - Suitable for real-valued data (e.g., height, weight, temperature).\n",
        "  - Works well when features are approximately normally distributed.\n",
        "   - Examples: Predicting Iris species based on petal/sepal lengths.\n",
        "- Multinomial Naïve Bayes (MNB)\n",
        "  - Designed for discrete features, especially count data (e.g., word frequencies in text).\n",
        "  - Suitable for text classification, document categorization, spam detection.\n",
        "  - Handles multiple occurrences of a feature effectively.\n",
        "\n",
        "- Bernoulli Naïve Bayes (BNB)\n",
        "  - Designed for binary/boolean features (presence or absence).\n",
        "  - Each feature is modeled as 0 or 1 (absent or present).\n",
        "  - Suitable for binary text classification, e.g., whether a word appears in a document.\n",
        "  - Works best when feature vectors are sparse (mostly 0s)."
      ],
      "metadata": {
        "id": "d_cnaeJeIedl"
      }
    },
    {
      "cell_type": "markdown",
      "source": [
        "When should you use Gaussian Naïve Bayes over other variants\n",
        "- Features Are Continuous / Real-Valued\n",
        "  - Use GNB when your dataset has continuous numerical features like height, weight, age, temperature, or sensor readings.\n",
        "  - Other variants (Multinomial, Bernoulli) are meant for discrete or binary features.\n",
        "- Features Are Approximately Normally Distributed\n",
        "  - GNB assumes that each feature follows a Gaussian (normal) distribution within each class.\n",
        "  - Works best if this assumption is reasonably true, but it can still perform decently even if slightly violated.\n",
        "- Small or Moderate-Sized Dataset\n",
        "  - Gaussian NB is fast to train and does not require large datasets to estimate mean and variance for each feature.\n",
        "- Low-Dimensional Datasets\n",
        "   - Ideal when the number of features is not extremely high.\n",
        "   - For high-dimensional sparse data (e.g., text), Multinomial or Bernoulli NB is preferred."
      ],
      "metadata": {
        "id": "mlCznxq5LLuK"
      }
    },
    {
      "cell_type": "markdown",
      "source": [
        "What are the key assumptions made by Naïve Bayes\n",
        "- Conditional independence of features\n",
        "- Class-conditional distribution of features\n",
        "- Equal feature importance\n",
        "- Independent and identically distributed (IID) samples\n",
        "- Correct estimation of class priors\n",
        "- No strong feature correlation (no multicollinearity)"
      ],
      "metadata": {
        "id": "-Cd-D2ozL5eO"
      }
    },
    {
      "cell_type": "markdown",
      "source": [
        "What are the advantages and disadvantages of Naïve Bayes\n",
        "- Advantages of Naïve Bayes\n",
        "   - Simple and easy to implement\n",
        "   - Fast training and prediction\n",
        "   - Works well with high-dimensional data\n",
        "   - Requires small amount of training data\n",
        "   - Performs surprisingly well even with feature independence assumption violated\n",
        "   - Handles both continuous and discrete data (depending on variant)\n",
        "   - Effective for text classification and spam detection\n",
        "- Disadvantages of Naïve Bayes\n",
        "  - Assumes feature independence, which is rarely true in real-world data\n",
        "  - Poor performance with correlated features\n",
        "  - Cannot learn interactions between features\n",
        "  - Probabilities can be inaccurate if feature distributions are misestimated\n",
        "  - Sensitive to zero probabilities without smoothing\n",
        "  -Less flexible compared to models like SVM or Random Forest"
      ],
      "metadata": {
        "id": "2RgnFZtOMZii"
      }
    },
    {
      "cell_type": "markdown",
      "source": [
        " Why is Naïve Bayes a good choice for text classification\n",
        " - Handles High-Dimensional Data\n",
        " - Works Well with Sparse Data\n",
        " - Fast Training and Prediction\n",
        " - Simple Implementation\n",
        " - Performs Well Despite Independence Assumption\n",
        " - Supports Probabilistic Interpretation\n",
        " - Variants Suitable for Different Text Representations"
      ],
      "metadata": {
        "id": "8P9xLqPHNZd1"
      }
    },
    {
      "cell_type": "markdown",
      "source": [
        "Compare SVM and Naïve Bayes for classification tasks\n",
        "- Support Vector Machine (SVM) and Naïve Bayes are both popular classification algorithms, but they differ fundamentally in approach.\n",
        "- SVM is a discriminative algorithm that tries to find the optimal hyperplane to separate different classes, making it effective for complex and high-dimensional data. It can handle non-linear relationships using kernel functions but is sensitive to outliers and usually requires careful tuning of hyperparameters such as the regularization parameter and kernel choice\n",
        "- Naïve Bayes, on the other hand, is a probabilistic algorithm based on Bayes’ theorem and assumes that features are conditionally independent given the class. This assumption often makes it less accurate on datasets where features are strongly correlated, but it is extremely fast, works well with small datasets, and is particularly effective for text classification or categorical data."
      ],
      "metadata": {
        "id": "qSGcXb6VNx-g"
      }
    },
    {
      "cell_type": "markdown",
      "source": [
        "How does Laplace Smoothing help in Naïve Bayes\n",
        "- Laplace Smoothing helps Naïve Bayes handle the problem of zero probabilities. In Naïve Bayes, the probability of a class given a feature is computed as the product of conditional probabilities of each feature. If a feature value never appears in the training data for a class, its probability becomes zero, which causes the entire product to become zero, effectively eliminating that class from consideration.\n",
        "- Laplace Smoothing solves this by adding a small constant (usually 1) to the count of each feature value. This ensures that no probability is ever zero, even for unseen feature values."
      ],
      "metadata": {
        "id": "DdqINIjeOxFN"
      }
    },
    {
      "cell_type": "markdown",
      "source": [
        "Write a Python program to train an SVM Classifier on the Iris dataset and evaluate accuracy"
      ],
      "metadata": {
        "id": "PP_r2-juPD2b"
      }
    },
    {
      "cell_type": "code",
      "source": [
        "# Import necessary libraries\n",
        "from sklearn import datasets\n",
        "from sklearn.model_selection import train_test_split\n",
        "from sklearn.preprocessing import StandardScaler\n",
        "from sklearn.svm import SVC\n",
        "from sklearn.metrics import accuracy_score, classification_report, confusion_matrix\n",
        "\n",
        "# Load the Iris dataset\n",
        "iris = datasets.load_iris()\n",
        "X = iris.data      # Features\n",
        "y = iris.target    # Labels\n",
        "\n",
        "# Split data into training and testing sets (80% train, 20% test)\n",
        "X_train, X_test, y_train, y_test = train_test_split(X, y, test_size=0.2, random_state=42)\n",
        "\n",
        "# Standardize features\n",
        "scaler = StandardScaler()\n",
        "X_train = scaler.fit_transform(X_train)\n",
        "X_test = scaler.transform(X_test)\n",
        "\n",
        "# Create SVM classifier (RBF kernel)\n",
        "svm_classifier = SVC(kernel='rbf', C=1.0, gamma='scale', random_state=42)\n",
        "\n",
        "# Train the classifier\n",
        "svm_classifier.fit(X_train, y_train)\n",
        "\n",
        "# Predict on test set\n",
        "y_pred = svm_classifier.predict(X_test)\n",
        "\n",
        "# Evaluate accuracy\n",
        "accuracy = accuracy_score(y_test, y_pred)\n",
        "print(f\"Accuracy: {accuracy*100:.2f}%\")\n",
        "\n",
        "# Optional: Detailed report\n",
        "print(\"\\nClassification Report:\")\n",
        "print(classification_report(y_test, y_pred))\n",
        "\n",
        "print(\"Confusion Matrix:\")\n",
        "print(confusion_matrix(y_test, y_pred))\n"
      ],
      "metadata": {
        "colab": {
          "base_uri": "https://localhost:8080/"
        },
        "id": "5KndcwYmPMEI",
        "outputId": "dbc9ab94-7a4d-4d87-dfde-a2f482160ec5"
      },
      "execution_count": null,
      "outputs": [
        {
          "output_type": "stream",
          "name": "stdout",
          "text": [
            "Accuracy: 100.00%\n",
            "\n",
            "Classification Report:\n",
            "              precision    recall  f1-score   support\n",
            "\n",
            "           0       1.00      1.00      1.00        10\n",
            "           1       1.00      1.00      1.00         9\n",
            "           2       1.00      1.00      1.00        11\n",
            "\n",
            "    accuracy                           1.00        30\n",
            "   macro avg       1.00      1.00      1.00        30\n",
            "weighted avg       1.00      1.00      1.00        30\n",
            "\n",
            "Confusion Matrix:\n",
            "[[10  0  0]\n",
            " [ 0  9  0]\n",
            " [ 0  0 11]]\n"
          ]
        }
      ]
    },
    {
      "cell_type": "markdown",
      "source": [
        "Write a Python program to train two SVM classifiers with Linear and RBF kernels on the Wine dataset, then\n",
        "compare their accuracies:\n"
      ],
      "metadata": {
        "id": "Jp6hIXHmPZm0"
      }
    },
    {
      "cell_type": "code",
      "source": [
        "# Import necessary libraries\n",
        "from sklearn import datasets\n",
        "from sklearn.model_selection import train_test_split\n",
        "from sklearn.preprocessing import StandardScaler\n",
        "from sklearn.svm import SVC\n",
        "from sklearn.metrics import accuracy_score\n",
        "\n",
        "# Load the Wine dataset\n",
        "wine = datasets.load_wine()\n",
        "X = wine.data\n",
        "y = wine.target\n",
        "\n",
        "# Split data into training and testing sets\n",
        "X_train, X_test, y_train, y_test = train_test_split(X, y, test_size=0.2, random_state=42)\n",
        "\n",
        "# Standardize features\n",
        "scaler = StandardScaler()\n",
        "X_train = scaler.fit_transform(X_train)\n",
        "X_test = scaler.transform(X_test)\n",
        "\n",
        "# Train SVM with Linear kernel\n",
        "svm_linear = SVC(kernel='linear', C=1.0, random_state=42)\n",
        "svm_linear.fit(X_train, y_train)\n",
        "y_pred_linear = svm_linear.predict(X_test)\n",
        "accuracy_linear = accuracy_score(y_test, y_pred_linear)\n",
        "\n",
        "# Train SVM with RBF kernel\n",
        "svm_rbf = SVC(kernel='rbf', C=1.0, gamma='scale', random_state=42)\n",
        "svm_rbf.fit(X_train, y_train)\n",
        "y_pred_rbf = svm_rbf.predict(X_test)\n",
        "accuracy_rbf = accuracy_score(y_test, y_pred_rbf)\n",
        "\n",
        "# Print accuracies\n",
        "print(f\"Accuracy with Linear Kernel: {accuracy_linear*100:.2f}%\")\n",
        "print(f\"Accuracy with RBF Kernel: {accuracy_rbf*100:.2f}%\")\n"
      ],
      "metadata": {
        "colab": {
          "base_uri": "https://localhost:8080/"
        },
        "id": "Ld2MKAbOPM5a",
        "outputId": "7f4286e4-502e-4686-b74e-9587bda9f2bd"
      },
      "execution_count": null,
      "outputs": [
        {
          "output_type": "stream",
          "name": "stdout",
          "text": [
            "Accuracy with Linear Kernel: 97.22%\n",
            "Accuracy with RBF Kernel: 100.00%\n"
          ]
        }
      ]
    },
    {
      "cell_type": "markdown",
      "source": [
        "Write a Python program to train an SVM Regressor (SVR) on a housing dataset and evaluate it using Mean\n",
        "Squared Error (MSE):"
      ],
      "metadata": {
        "id": "AisrYA82Plo-"
      }
    },
    {
      "cell_type": "code",
      "source": [
        "# Import necessary libraries\n",
        "from sklearn.datasets import fetch_california_housing\n",
        "from sklearn.model_selection import train_test_split\n",
        "from sklearn.preprocessing import StandardScaler\n",
        "from sklearn.svm import SVR\n",
        "from sklearn.metrics import mean_squared_error\n",
        "\n",
        "# Load the California Housing dataset\n",
        "california = fetch_california_housing()\n",
        "X = california.data\n",
        "y = california.target\n",
        "\n",
        "# Split data into training and testing sets\n",
        "X_train, X_test, y_train, y_test = train_test_split(X, y, test_size=0.2, random_state=42)\n",
        "\n",
        "# Standardize features\n",
        "scaler = StandardScaler()\n",
        "X_train = scaler.fit_transform(X_train)\n",
        "X_test = scaler.transform(X_test)\n",
        "\n",
        "# Create SVR model with RBF kernel\n",
        "svr_model = SVR(kernel='rbf', C=100, gamma=0.1, epsilon=0.1)\n",
        "\n",
        "# Train the SVR model\n",
        "svr_model.fit(X_train, y_train)\n",
        "\n",
        "# Predict on test set\n",
        "y_pred = svr_model.predict(X_test)\n",
        "\n",
        "# Evaluate using Mean Squared Error\n",
        "mse = mean_squared_error(y_test, y_pred)\n",
        "print(f\"Mean Squared Error (MSE): {mse:.4f}\")\n"
      ],
      "metadata": {
        "colab": {
          "base_uri": "https://localhost:8080/"
        },
        "id": "5S_DRmepPo7F",
        "outputId": "e6453059-cd3e-4136-c021-cf9d0e9d85bd"
      },
      "execution_count": null,
      "outputs": [
        {
          "output_type": "stream",
          "name": "stdout",
          "text": [
            "Mean Squared Error (MSE): 0.3245\n"
          ]
        }
      ]
    },
    {
      "cell_type": "markdown",
      "source": [
        " Write a Python program to train an SVM Classifier with a Polynomial Kernel and visualize the decision\n",
        "boundary\n"
      ],
      "metadata": {
        "id": "EbFzCyGaQVD0"
      }
    },
    {
      "cell_type": "code",
      "source": [
        "# Import necessary libraries\n",
        "import numpy as np\n",
        "import matplotlib.pyplot as plt\n",
        "from sklearn import datasets\n",
        "from sklearn.preprocessing import StandardScaler\n",
        "from sklearn.svm import SVC\n",
        "from sklearn.model_selection import train_test_split\n",
        "\n",
        "# Load Iris dataset and select first two features for 2D visualization\n",
        "iris = datasets.load_iris()\n",
        "X = iris.data[:, :2]  # Only first two features\n",
        "y = iris.target\n",
        "\n",
        "# For simplicity, take only two classes (0 and 1)\n",
        "X = X[y != 2]\n",
        "y = y[y != 2]\n",
        "\n",
        "# Split data into training and testing sets\n",
        "X_train, X_test, y_train, y_test = train_test_split(X, y, test_size=0.2, random_state=42)\n",
        "\n",
        "# Standardize features\n",
        "scaler = StandardScaler()\n",
        "X_train = scaler.fit_transform(X_train)\n",
        "X_test = scaler.transform(X_test)\n",
        "\n",
        "# Train SVM with Polynomial kernel\n",
        "svm_poly = SVC(kernel='poly', degree=3, C=1.0, gamma='scale', coef0=1)\n",
        "svm_poly.fit(X_train, y_train)\n",
        "\n",
        "# Plot decision boundary\n",
        "def plot_decision_boundary(model, X, y):\n",
        "    x_min, x_max = X[:, 0].min() - 1, X[:, 0].max() + 1\n",
        "    y_min, y_max = X[:, 1].min() - 1, X[:, 1].max() + 1\n",
        "    xx, yy = np.meshgrid(np.arange(x_min, x_max, 0.01),\n",
        "                         np.arange(y_min, y_max, 0.01))\n",
        "\n",
        "    Z = model.predict(np.c_[xx.ravel(), yy.ravel()])\n",
        "    Z = Z.reshape(xx.shape)\n",
        "\n",
        "    plt.contourf(xx, yy, Z, alpha=0.3, cmap=plt.cm.Paired)\n",
        "    plt.scatter(X[:, 0], X[:, 1], c=y, s=50, edgecolors='k', cmap=plt.cm.Paired)\n",
        "    plt.xlabel('Feature 1')\n",
        "    plt.ylabel('Feature 2')\n",
        "    plt.title('SVM with Polynomial Kernel Decision Boundary')\n",
        "    plt.show()\n",
        "\n",
        "# Visualize\n",
        "plot_decision_boundary(svm_poly, X_train, y_train)\n",
        "\n"
      ],
      "metadata": {
        "colab": {
          "base_uri": "https://localhost:8080/",
          "height": 472
        },
        "id": "kuEq9n4PP1Mq",
        "outputId": "546b628c-f4f8-41ac-eb96-f6aa7b8e139a"
      },
      "execution_count": null,
      "outputs": [
        {
          "output_type": "display_data",
          "data": {
            "text/plain": [
              "<Figure size 640x480 with 1 Axes>"
            ],
            "image/png": "[encoded data removed]"
          },
          "metadata": {}
        }
      ]
    },
    {
      "cell_type": "markdown",
      "source": [
        "Write a Python program to train a Gaussian Naïve Bayes classifier on the Breast Cancer dataset and\n",
        "evaluate accuracy:"
      ],
      "metadata": {
        "id": "jtor2R1LQT7l"
      }
    },
    {
      "cell_type": "code",
      "source": [
        "# Import necessary libraries\n",
        "from sklearn.datasets import load_breast_cancer\n",
        "from sklearn.model_selection import train_test_split\n",
        "from sklearn.preprocessing import StandardScaler\n",
        "from sklearn.naive_bayes import GaussianNB\n",
        "from sklearn.metrics import accuracy_score, classification_report, confusion_matrix\n",
        "\n",
        "# Load the Breast Cancer dataset\n",
        "data = load_breast_cancer()\n",
        "X = data.data\n",
        "y = data.target\n",
        "\n",
        "# Split data into training and testing sets\n",
        "X_train, X_test, y_train, y_test = train_test_split(X, y, test_size=0.2, random_state=42)\n",
        "\n",
        "# Standardize features (optional but can improve performance)\n",
        "scaler = StandardScaler()\n",
        "X_train = scaler.fit_transform(X_train)\n",
        "X_test = scaler.transform(X_test)\n",
        "\n",
        "# Train Gaussian Naïve Bayes classifier\n",
        "gnb = GaussianNB()\n",
        "gnb.fit(X_train, y_train)\n",
        "\n",
        "# Predict on test set\n",
        "y_pred = gnb.predict(X_test)\n",
        "\n",
        "# Evaluate accuracy\n",
        "accuracy = accuracy_score(y_test, y_pred)\n",
        "print(f\"Accuracy: {accuracy*100:.2f}%\")\n",
        "\n",
        "# Optional: Detailed classification report and confusion matrix\n",
        "print(\"\\nClassification Report:\")\n",
        "print(classification_report(y_test, y_pred))\n",
        "\n",
        "print(\"Confusion Matrix:\")\n",
        "print(confusion_matrix(y_test, y_pred))\n"
      ],
      "metadata": {
        "colab": {
          "base_uri": "https://localhost:8080/"
        },
        "id": "n1eSimUpQikc",
        "outputId": "50057d42-b85b-400b-91fc-b1d7a57afe5c"
      },
      "execution_count": null,
      "outputs": [
        {
          "output_type": "stream",
          "name": "stdout",
          "text": [
            "Accuracy: 96.49%\n",
            "\n",
            "Classification Report:\n",
            "              precision    recall  f1-score   support\n",
            "\n",
            "           0       0.98      0.93      0.95        43\n",
            "           1       0.96      0.99      0.97        71\n",
            "\n",
            "    accuracy                           0.96       114\n",
            "   macro avg       0.97      0.96      0.96       114\n",
            "weighted avg       0.97      0.96      0.96       114\n",
            "\n",
            "Confusion Matrix:\n",
            "[[40  3]\n",
            " [ 1 70]]\n"
          ]
        }
      ]
    },
    {
      "cell_type": "markdown",
      "source": [
        "Write a Python program to train a Multinomial Naïve Bayes classifier for text classification using the 20\n",
        "Newsgroups dataset."
      ],
      "metadata": {
        "id": "c2JbzgGeQvHn"
      }
    },
    {
      "cell_type": "code",
      "source": [
        "# Import necessary libraries\n",
        "from sklearn.datasets import fetch_20newsgroups\n",
        "from sklearn.feature_extraction.text import CountVectorizer, TfidfTransformer\n",
        "from sklearn.model_selection import train_test_split\n",
        "from sklearn.naive_bayes import MultinomialNB\n",
        "from sklearn.metrics import accuracy_score, classification_report, confusion_matrix\n",
        "\n",
        "# Load 20 Newsgroups dataset\n",
        "newsgroups = fetch_20newsgroups(subset='all', shuffle=True, random_state=42)\n",
        "X = newsgroups.data\n",
        "y = newsgroups.target\n",
        "\n",
        "# Split data into training and testing sets\n",
        "X_train, X_test, y_train, y_test = train_test_split(X, y, test_size=0.2, random_state=42)\n",
        "\n",
        "# Convert text data into numerical feature vectors\n",
        "count_vect = CountVectorizer(stop_words='english')\n",
        "X_train_counts = count_vect.fit_transform(X_train)\n",
        "X_test_counts = count_vect.transform(X_test)\n",
        "\n",
        "# Transform counts to TF-IDF representation\n",
        "tfidf_transformer = TfidfTransformer()\n",
        "X_train_tfidf = tfidf_transformer.fit_transform(X_train_counts)\n",
        "X_test_tfidf = tfidf_transformer.transform(X_test_counts)\n",
        "\n",
        "# Train Multinomial Naïve Bayes classifier\n",
        "mnb = MultinomialNB()\n",
        "mnb.fit(X_train_tfidf, y_train)\n",
        "\n",
        "# Predict on test set\n",
        "y_pred = mnb.predict(X_test_tfidf)\n",
        "\n",
        "# Evaluate accuracy\n",
        "accuracy = accuracy_score(y_test, y_pred)\n",
        "print(f\"Accuracy: {accuracy*100:.2f}%\")\n",
        "\n",
        "# Optional: Detailed classification report and confusion matrix\n",
        "print(\"\\nClassification Report:\")\n",
        "print(classification_report(y_test, y_pred, target_names=newsgroups.target_names))\n",
        "\n",
        "print(\"Confusion Matrix:\")\n",
        "print(confusion_matrix(y_test, y_pred))\n"
      ],
      "metadata": {
        "colab": {
          "base_uri": "https://localhost:8080/"
        },
        "id": "Q1oKRfjSQp8h",
        "outputId": "e16783fd-f17a-4519-e469-d084eae006df"
      },
      "execution_count": null,
      "outputs": [
        {
          "output_type": "stream",
          "name": "stdout",
          "text": [
            "Accuracy: 87.85%\n",
            "\n",
            "Classification Report:\n",
            "                          precision    recall  f1-score   support\n",
            "\n",
            "             alt.atheism       0.85      0.86      0.86       151\n",
            "           comp.graphics       0.88      0.84      0.86       202\n",
            " comp.os.ms-windows.misc       0.87      0.85      0.86       195\n",
            "comp.sys.ibm.pc.hardware       0.65      0.85      0.74       183\n",
            "   comp.sys.mac.hardware       0.94      0.87      0.90       205\n",
            "          comp.windows.x       0.95      0.85      0.90       215\n",
            "            misc.forsale       0.93      0.72      0.81       193\n",
            "               rec.autos       0.91      0.94      0.92       196\n",
            "         rec.motorcycles       0.89      0.95      0.92       168\n",
            "      rec.sport.baseball       0.95      0.95      0.95       211\n",
            "        rec.sport.hockey       0.90      0.99      0.94       198\n",
            "               sci.crypt       0.91      0.97      0.94       201\n",
            "         sci.electronics       0.92      0.82      0.86       202\n",
            "                 sci.med       0.97      0.94      0.96       194\n",
            "               sci.space       0.88      0.99      0.93       189\n",
            "  soc.religion.christian       0.72      0.99      0.83       202\n",
            "      talk.politics.guns       0.81      0.97      0.88       188\n",
            "   talk.politics.mideast       0.94      0.99      0.97       182\n",
            "      talk.politics.misc       0.96      0.75      0.84       159\n",
            "      talk.religion.misc       1.00      0.31      0.47       136\n",
            "\n",
            "                accuracy                           0.88      3770\n",
            "               macro avg       0.89      0.87      0.87      3770\n",
            "            weighted avg       0.89      0.88      0.87      3770\n",
            "\n",
            "Confusion Matrix:\n",
            "[[130   0   0   0   0   0   0   0   0   0   0   0   0   0   2  15   2   1\n",
            "    1   0]\n",
            " [  0 169   5  10   0   4   2   0   1   2   0   2   0   0   2   3   0   2\n",
            "    0   0]\n",
            " [  0   5 165  18   0   3   0   1   1   0   0   0   0   0   2   0   0   0\n",
            "    0   0]\n",
            " [  0   3   7 156   7   0   2   1   0   0   1   1   3   0   1   0   0   1\n",
            "    0   0]\n",
            " [  0   0   3  10 179   1   1   2   0   0   1   3   3   0   2   0   0   0\n",
            "    0   0]\n",
            " [  0   9   2   7   1 182   0   0   5   1   2   1   0   0   4   0   1   0\n",
            "    0   0]\n",
            " [  0   0   2  26   0   0 139   9   2   2   2   1   5   1   2   1   1   0\n",
            "    0   0]\n",
            " [  0   1   0   0   0   0   1 184   3   0   1   0   1   1   1   0   3   0\n",
            "    0   0]\n",
            " [  0   0   0   1   0   0   3   2 160   0   0   0   1   0   0   0   1   0\n",
            "    0   0]\n",
            " [  0   0   0   0   0   0   0   0   1 201   8   0   0   0   0   1   0   0\n",
            "    0   0]\n",
            " [  0   0   0   1   0   0   0   0   1   0 196   0   0   0   0   0   0   0\n",
            "    0   0]\n",
            " [  0   2   3   0   0   0   0   0   0   0   0 194   0   0   0   0   1   1\n",
            "    0   0]\n",
            " [  0   3   0  12   4   0   2   1   1   2   2   6 165   0   4   0   0   0\n",
            "    0   0]\n",
            " [  0   0   2   0   0   0   0   1   1   1   1   1   2 182   1   0   1   0\n",
            "    1   0]\n",
            " [  0   0   0   0   0   1   0   0   0   0   0   0   0   1 187   0   0   0\n",
            "    0   0]\n",
            " [  1   0   0   0   0   0   0   0   0   0   0   0   0   0   0 199   0   2\n",
            "    0   0]\n",
            " [  0   0   1   0   0   0   0   0   1   0   1   1   0   1   0   1 182   0\n",
            "    0   0]\n",
            " [  0   0   0   0   0   0   0   0   0   0   0   1   0   0   0   0   0 181\n",
            "    0   0]\n",
            " [  1   0   0   0   0   0   0   1   0   0   1   2   0   1   5   3  22   4\n",
            "  119   0]\n",
            " [ 21   0   0   0   0   0   0   0   2   2   2   0   0   0   0  53  10   1\n",
            "    3  42]]\n"
          ]
        }
      ]
    },
    {
      "cell_type": "markdown",
      "source": [
        "Write a Python program to train an SVM Classifier with different C values and compare the decision\n",
        "boundaries visually"
      ],
      "metadata": {
        "id": "QTRLTaJkQ_Rc"
      }
    },
    {
      "cell_type": "code",
      "source": [
        "# Import necessary libraries\n",
        "import numpy as np\n",
        "import matplotlib.pyplot as plt\n",
        "from sklearn import datasets\n",
        "from sklearn.preprocessing import StandardScaler\n",
        "from sklearn.svm import SVC\n",
        "from sklearn.model_selection import train_test_split\n",
        "\n",
        "# Load Iris dataset and select first two features for 2D visualization\n",
        "iris = datasets.load_iris()\n",
        "X = iris.data[:, :2]  # Only first two features\n",
        "y = iris.target\n",
        "\n",
        "# For simplicity, take only two classes (0 and 1)\n",
        "X = X[y != 2]\n",
        "y = y[y != 2]\n",
        "\n",
        "# Split data into training and testing sets\n",
        "X_train, X_test, y_train, y_test = train_test_split(X, y, test_size=0.2, random_state=42)\n",
        "\n",
        "# Standardize features\n",
        "scaler = StandardScaler()\n",
        "X_train = scaler.fit_transform(X_train)\n",
        "X_test = scaler.transform(X_test)\n",
        "\n",
        "# List of C values to compare\n",
        "C_values = [0.1, 1, 10]\n",
        "\n",
        "# Function to plot decision boundary\n",
        "def plot_decision_boundary(model, X, y, title):\n",
        "    x_min, x_max = X[:, 0].min() - 1, X[:, 0].max() + 1\n",
        "    y_min, y_max = X[:, 1].min() - 1, X[:, 1].max() + 1\n",
        "    xx, yy = np.meshgrid(np.arange(x_min, x_max, 0.01),\n",
        "                         np.arange(y_min, y_max, 0.01))\n",
        "\n",
        "    Z = model.predict(np.c_[xx.ravel(), yy.ravel()])\n",
        "    Z = Z.reshape(xx.shape)\n",
        "\n",
        "    plt.contourf(xx, yy, Z, alpha=0.3, cmap=plt.cm.Paired)\n",
        "    plt.scatter(X[:, 0], X[:, 1], c=y, s=50, edgecolors='k', cmap=plt.cm.Paired)\n",
        "    plt.title(title)\n",
        "    plt.xlabel('Feature 1')\n",
        "    plt.ylabel('Feature 2')\n",
        "\n",
        "# Plot decision boundaries for different C values\n",
        "plt.figure(figsize=(15, 4))\n",
        "for i, C in enumerate(C_values):\n",
        "    svm_model = SVC(kernel='linear', C=C)\n",
        "    svm_model.fit(X_train, y_train)\n",
        "\n",
        "    plt.subplot(1, len(C_values), i+1)\n",
        "    plot_decision_boundary(svm_model, X_train, y_train, title=f'SVM with C={C}')\n",
        "\n",
        "plt.tight_layout()\n",
        "plt.show()\n"
      ],
      "metadata": {
        "colab": {
          "base_uri": "https://localhost:8080/",
          "height": 381
        },
        "id": "IqG5bE8iRWaS",
        "outputId": "8abb5341-a863-4cf2-ca14-e2bf1a445525"
      },
      "execution_count": null,
      "outputs": [
        {
          "output_type": "display_data",
          "data": {
            "text/plain": [
              "<Figure size 1500x400 with 3 Axes>"
            ],
            "image/png": "[encoded data removed]"
          },
          "metadata": {}
        }
      ]
    },
    {
      "cell_type": "markdown",
      "source": [
        "Write a Python program to train a Bernoulli Naïve Bayes classifier for binary classification on a dataset with\n",
        "binary features="
      ],
      "metadata": {
        "id": "GSASbYAwRh52"
      }
    },
    {
      "cell_type": "code",
      "source": [
        "# Import necessary libraries\n",
        "import numpy as np\n",
        "from sklearn.model_selection import train_test_split\n",
        "from sklearn.naive_bayes import BernoulliNB\n",
        "from sklearn.metrics import accuracy_score, classification_report, confusion_matrix\n",
        "\n",
        "# Create a synthetic dataset with binary features\n",
        "# 10 binary features, 100 samples\n",
        "np.random.seed(42)\n",
        "X = np.random.randint(2, size=(100, 10))  # Binary features: 0 or 1\n",
        "y = np.random.randint(2, size=(100,))     # Binary target: 0 or 1\n",
        "\n",
        "# Split data into training and testing sets\n",
        "X_train, X_test, y_train, y_test = train_test_split(X, y, test_size=0.2, random_state=42)\n",
        "\n",
        "# Train Bernoulli Naïve Bayes classifier\n",
        "bnb = BernoulliNB()\n",
        "bnb.fit(X_train, y_train)\n",
        "\n",
        "# Predict on test set\n",
        "y_pred = bnb.predict(X_test)\n",
        "\n",
        "# Evaluate accuracy\n",
        "accuracy = accuracy_score(y_test, y_pred)\n",
        "print(f\"Accuracy: {accuracy*100:.2f}%\")\n",
        "\n",
        "# Optional: Detailed classification report and confusion matrix\n",
        "print(\"\\nClassification Report:\")\n",
        "print(classification_report(y_test, y_pred))\n",
        "\n",
        "print(\"Confusion Matrix:\")\n",
        "print(confusion_matrix(y_test, y_pred))\n"
      ],
      "metadata": {
        "colab": {
          "base_uri": "https://localhost:8080/"
        },
        "id": "IMOGOWviRt0W",
        "outputId": "5a07fa8f-d2f3-4099-8432-0069314f7ecd"
      },
      "execution_count": null,
      "outputs": [
        {
          "output_type": "stream",
          "name": "stdout",
          "text": [
            "Accuracy: 50.00%\n",
            "\n",
            "Classification Report:\n",
            "              precision    recall  f1-score   support\n",
            "\n",
            "           0       0.50      0.80      0.62        10\n",
            "           1       0.50      0.20      0.29        10\n",
            "\n",
            "    accuracy                           0.50        20\n",
            "   macro avg       0.50      0.50      0.45        20\n",
            "weighted avg       0.50      0.50      0.45        20\n",
            "\n",
            "Confusion Matrix:\n",
            "[[8 2]\n",
            " [8 2]]\n"
          ]
        }
      ]
    },
    {
      "cell_type": "markdown",
      "source": [
        " Write a Python program to apply feature scaling before training an SVM model and compare results with\n",
        "unscaled data"
      ],
      "metadata": {
        "id": "fzdMolHQRx0C"
      }
    },
    {
      "cell_type": "code",
      "source": [
        "# Import necessary libraries\n",
        "from sklearn import datasets\n",
        "from sklearn.model_selection import train_test_split\n",
        "from sklearn.preprocessing import StandardScaler\n",
        "from sklearn.svm import SVC\n",
        "from sklearn.metrics import accuracy_score\n",
        "\n",
        "# Load the Iris dataset\n",
        "iris = datasets.load_iris()\n",
        "X = iris.data\n",
        "y = iris.target\n",
        "\n",
        "# Split data into training and testing sets\n",
        "X_train, X_test, y_train, y_test = train_test_split(X, y, test_size=0.2, random_state=42)\n",
        "\n",
        "# ------------------- Without Scaling -------------------\n",
        "svm_unscaled = SVC(kernel='rbf', C=1.0, gamma='scale', random_state=42)\n",
        "svm_unscaled.fit(X_train, y_train)\n",
        "y_pred_unscaled = svm_unscaled.predict(X_test)\n",
        "accuracy_unscaled = accuracy_score(y_test, y_pred_unscaled)\n",
        "print(f\"Accuracy without scaling: {accuracy_unscaled*100:.2f}%\")\n",
        "\n",
        "# ------------------- With Scaling -------------------\n",
        "scaler = StandardScaler()\n",
        "X_train_scaled = scaler.fit_transform(X_train)\n",
        "X_test_scaled = scaler.transform(X_test)\n",
        "\n",
        "svm_scaled = SVC(kernel='rbf', C=1.0, gamma='scale', random_state=42)\n",
        "svm_scaled.fit(X_train_scaled, y_train)\n",
        "y_pred_scaled = svm_scaled.predict(X_test_scaled)\n",
        "accuracy_scaled = accuracy_score(y_test, y_pred_scaled)\n",
        "print(f\"Accuracy with scaling: {accuracy_scaled*100:.2f}%\")\n"
      ],
      "metadata": {
        "colab": {
          "base_uri": "https://localhost:8080/"
        },
        "id": "LP84Q23LRukE",
        "outputId": "75c8b966-3097-48c8-898d-2e6fd3f4c38e"
      },
      "execution_count": null,
      "outputs": [
        {
          "output_type": "stream",
          "name": "stdout",
          "text": [
            "Accuracy without scaling: 100.00%\n",
            "Accuracy with scaling: 100.00%\n"
          ]
        }
      ]
    },
    {
      "cell_type": "markdown",
      "source": [
        "Write a Python program to train a Gaussian Naïve Bayes model and compare the predictions before and\n",
        "after Laplace Smoothing"
      ],
      "metadata": {
        "id": "05hHvulLSA1N"
      }
    },
    {
      "cell_type": "code",
      "source": [
        "# Import necessary libraries\n",
        "from sklearn.naive_bayes import MultinomialNB\n",
        "import numpy as np\n",
        "\n",
        "# Small synthetic dataset with discrete counts\n",
        "# Features represent word counts, target is class\n",
        "X = np.array([[2, 1, 0],\n",
        "              [1, 0, 1],\n",
        "              [0, 1, 2],\n",
        "              [1, 1, 1]])\n",
        "y = np.array([0, 0, 1, 1])\n",
        "\n",
        "# Test sample (contains a feature not seen in training)\n",
        "X_test = np.array([[1, 0, 2]])\n",
        "\n",
        "# 1. Multinomial NB without smoothing (alpha=0)\n",
        "mnb_no_smooth = MultinomialNB(alpha=0.0)\n",
        "mnb_no_smooth.fit(X, y)\n",
        "pred_no_smooth = mnb_no_smooth.predict(X_test)\n",
        "\n",
        "# 2. Multinomial NB with Laplace smoothing (alpha=1)\n",
        "mnb_smooth = MultinomialNB(alpha=1.0)\n",
        "mnb_smooth.fit(X, y)\n",
        "pred_smooth = mnb_smooth.predict(X_test)\n",
        "\n",
        "print(f\"Prediction without smoothing: {pred_no_smooth[0]}\")\n",
        "print(f\"Prediction with Laplace smoothing: {pred_smooth[0]}\")\n"
      ],
      "metadata": {
        "colab": {
          "base_uri": "https://localhost:8080/"
        },
        "id": "2TaOGi-pR8cI",
        "outputId": "5f91f9eb-3dae-4bd1-d124-000feeb94370"
      },
      "execution_count": null,
      "outputs": [
        {
          "output_type": "stream",
          "name": "stdout",
          "text": [
            "Prediction without smoothing: 1\n",
            "Prediction with Laplace smoothing: 1\n"
          ]
        }
      ]
    },
    {
      "cell_type": "markdown",
      "source": [
        "Write a Python program to train an SVM Classifier and use GridSearchCV to tune the hyperparameters (C,\n",
        "gamma, kernel)"
      ],
      "metadata": {
        "id": "gKo712zVYfaf"
      }
    },
    {
      "cell_type": "code",
      "source": [
        "# Import necessary libraries\n",
        "from sklearn import datasets\n",
        "from sklearn.model_selection import train_test_split, GridSearchCV\n",
        "from sklearn.preprocessing import StandardScaler\n",
        "from sklearn.svm import SVC\n",
        "from sklearn.metrics import classification_report, accuracy_score\n",
        "\n",
        "# 1. Load dataset\n",
        "iris = datasets.load_iris()\n",
        "X = iris.data\n",
        "y = iris.target\n",
        "\n",
        "# 2. Split the dataset into training and testing sets\n",
        "X_train, X_test, y_train, y_test = train_test_split(\n",
        "    X, y, test_size=0.3, random_state=42\n",
        ")\n",
        "\n",
        "# 3. Standardize the features\n",
        "scaler = StandardScaler()\n",
        "X_train = scaler.fit_transform(X_train)\n",
        "X_test = scaler.transform(X_test)\n",
        "\n",
        "# 4. Define the model\n",
        "svm = SVC()\n",
        "\n",
        "# 5. Define the hyperparameter grid\n",
        "param_grid = {\n",
        "    'C': [0.1, 1, 10, 100],\n",
        "    'gamma': [1, 0.1, 0.01, 0.001],\n",
        "    'kernel': ['linear', 'rbf', 'poly', 'sigmoid']\n",
        "}\n",
        "\n",
        "# 6. Perform Grid Search with Cross-Validation\n",
        "grid = GridSearchCV(\n",
        "    estimator=svm,\n",
        "    param_grid=param_grid,\n",
        "    cv=5,\n",
        "    scoring='accuracy',\n",
        "    verbose=1,\n",
        "    n_jobs=-1\n",
        ")\n",
        "grid.fit(X_train, y_train)\n",
        "\n",
        "# 7. Print the best parameters and accuracy\n",
        "print(\"Best Parameters found by GridSearchCV:\")\n",
        "print(grid.best_params_)\n",
        "\n",
        "# 8. Evaluate the best model\n",
        "best_model = grid.best_estimator_\n",
        "y_pred = best_model.predict(X_test)\n",
        "\n",
        "print(\"\\nClassification Report:\")\n",
        "print(classification_report(y_test, y_pred))\n",
        "print(\"Accuracy on Test Data:\", accuracy_score(y_test, y_pred))\n"
      ],
      "metadata": {
        "id": "_iYm-A_cSEsM",
        "colab": {
          "base_uri": "https://localhost:8080/"
        },
        "outputId": "1bf0ecd7-6df9-49d7-bd5c-48ddbe27c7c4"
      },
      "execution_count": 1,
      "outputs": [
        {
          "output_type": "stream",
          "name": "stdout",
          "text": [
            "Fitting 5 folds for each of 64 candidates, totalling 320 fits\n",
            "Best Parameters found by GridSearchCV:\n",
            "{'C': 0.1, 'gamma': 1, 'kernel': 'poly'}\n",
            "\n",
            "Classification Report:\n",
            "              precision    recall  f1-score   support\n",
            "\n",
            "           0       1.00      1.00      1.00        19\n",
            "           1       0.93      1.00      0.96        13\n",
            "           2       1.00      0.92      0.96        13\n",
            "\n",
            "    accuracy                           0.98        45\n",
            "   macro avg       0.98      0.97      0.97        45\n",
            "weighted avg       0.98      0.98      0.98        45\n",
            "\n",
            "Accuracy on Test Data: 0.9777777777777777\n"
          ]
        }
      ]
    },
    {
      "cell_type": "markdown",
      "source": [
        "Write a Python program to train an SVM Classifier on an imbalanced dataset and apply class weighting and\n",
        "check it improve accuracy"
      ],
      "metadata": {
        "id": "UEAZk8GiYqZt"
      }
    },
    {
      "cell_type": "code",
      "source": [
        "# Import necessary libraries\n",
        "from sklearn.datasets import make_classification\n",
        "from sklearn.model_selection import train_test_split\n",
        "from sklearn.preprocessing import StandardScaler\n",
        "from sklearn.svm import SVC\n",
        "from sklearn.metrics import classification_report, accuracy_score, confusion_matrix\n",
        "\n",
        "# 1. Create an imbalanced dataset\n",
        "X, y = make_classification(n_samples=2000, n_features=10, n_informative=5,\n",
        "                           n_redundant=2, n_classes=2,\n",
        "                           weights=[0.9, 0.1],  # 90% of one class, 10% of another\n",
        "                           random_state=42)\n",
        "\n",
        "# 2. Split into train and test data\n",
        "X_train, X_test, y_train, y_test = train_test_split(\n",
        "    X, y, test_size=0.3, random_state=42, stratify=y\n",
        ")\n",
        "\n",
        "# 3. Standardize the features\n",
        "scaler = StandardScaler()\n",
        "X_train = scaler.fit_transform(X_train)\n",
        "X_test = scaler.transform(X_test)\n",
        "\n",
        "# 4. Train SVM without class weights\n",
        "svm_normal = SVC(kernel='rbf', random_state=42)\n",
        "svm_normal.fit(X_train, y_train)\n",
        "y_pred_normal = svm_normal.predict(X_test)\n",
        "\n",
        "# 5. Train SVM with class weights ('balanced' automatically adjusts weights)\n",
        "svm_weighted = SVC(kernel='rbf', class_weight='balanced', random_state=42)\n",
        "svm_weighted.fit(X_train, y_train)\n",
        "y_pred_weighted = svm_weighted.predict(X_test)\n",
        "\n",
        "# 6. Compare performance\n",
        "print(\"=== Without Class Weights ===\")\n",
        "print(\"Accuracy:\", accuracy_score(y_test, y_pred_normal))\n",
        "print(classification_report(y_test, y_pred_normal))\n",
        "print(\"Confusion Matrix:\\n\", confusion_matrix(y_test, y_pred_normal))\n",
        "\n",
        "print(\"\\n=== With Class Weights (Balanced) ===\")\n",
        "print(\"Accuracy:\", accuracy_score(y_test, y_pred_weighted))\n",
        "print(classification_report(y_test, y_pred_weighted))\n",
        "print(\"Confusion Matrix:\\n\", confusion_matrix(y_test, y_pred_weighted))\n"
      ],
      "metadata": {
        "colab": {
          "base_uri": "https://localhost:8080/"
        },
        "id": "E-gZeokgYpmU",
        "outputId": "0b8aa6da-9d4d-44c4-b670-c036eb74616d"
      },
      "execution_count": 2,
      "outputs": [
        {
          "output_type": "stream",
          "name": "stdout",
          "text": [
            "=== Without Class Weights ===\n",
            "Accuracy: 0.955\n",
            "              precision    recall  f1-score   support\n",
            "\n",
            "           0       0.95      1.00      0.98       538\n",
            "           1       0.97      0.58      0.73        62\n",
            "\n",
            "    accuracy                           0.95       600\n",
            "   macro avg       0.96      0.79      0.85       600\n",
            "weighted avg       0.96      0.95      0.95       600\n",
            "\n",
            "Confusion Matrix:\n",
            " [[537   1]\n",
            " [ 26  36]]\n",
            "\n",
            "=== With Class Weights (Balanced) ===\n",
            "Accuracy: 0.91\n",
            "              precision    recall  f1-score   support\n",
            "\n",
            "           0       0.99      0.91      0.95       538\n",
            "           1       0.54      0.90      0.67        62\n",
            "\n",
            "    accuracy                           0.91       600\n",
            "   macro avg       0.76      0.91      0.81       600\n",
            "weighted avg       0.94      0.91      0.92       600\n",
            "\n",
            "Confusion Matrix:\n",
            " [[490  48]\n",
            " [  6  56]]\n"
          ]
        }
      ]
    },
    {
      "cell_type": "markdown",
      "source": [
        "Write a Python program to implement a Naïve Bayes classifier for spam detection using email data\n"
      ],
      "metadata": {
        "id": "B4A527NjY1jB"
      }
    },
    {
      "cell_type": "code",
      "source": [
        "# Import necessary libraries\n",
        "import pandas as pd\n",
        "from sklearn.model_selection import train_test_split\n",
        "from sklearn.feature_extraction.text import CountVectorizer, TfidfTransformer\n",
        "from sklearn.naive_bayes import MultinomialNB\n",
        "from sklearn.pipeline import Pipeline\n",
        "from sklearn.metrics import classification_report, accuracy_score, confusion_matrix\n",
        "\n",
        "# 1. Load dataset\n",
        "# Dataset format: | label | message |\n",
        "# Example: \"spam\", \"Congratulations! You've won a prize!\"\n",
        "data = pd.read_csv(\"spam.csv\", encoding='latin-1')[['v1', 'v2']]\n",
        "data.columns = ['label', 'message']\n",
        "\n",
        "# 2. Encode labels: ham -> 0, spam -> 1\n",
        "data['label_num'] = data['label'].map({'ham': 0, 'spam': 1})\n",
        "\n",
        "# 3. Split data into training and testing sets\n",
        "X_train, X_test, y_train, y_test = train_test_split(\n",
        "    data['message'], data['label_num'], test_size=0.2, random_state=42\n",
        ")\n",
        "\n",
        "# 4. Build a pipeline for text processing + Naïve Bayes classification\n",
        "text_clf = Pipeline([\n",
        "    ('vect', CountVectorizer(stop_words='english')),  # Convert text to token counts\n",
        "    ('tfidf', TfidfTransformer()),                    # Apply TF-IDF weighting\n",
        "    ('clf', MultinomialNB())                          # Naïve Bayes classifier\n",
        "])\n",
        "\n",
        "# 5. Train the model\n",
        "text_clf.fit(X_train, y_train)\n",
        "\n",
        "# 6. Predict on test data\n",
        "y_pred = text_clf.predict(X_test)\n",
        "\n",
        "# 7. Evaluate performance\n",
        "print(\"=== Naïve Bayes Spam Detection ===\")\n",
        "print(\"Accuracy:\", accuracy_score(y_test, y_pred))\n",
        "print(\"\\nClassification Report:\")\n",
        "print(classification_report(y_test, y_pred, target_names=['Ham', 'Spam']))\n",
        "print(\"Confusion Matrix:\\n\", confusion_matrix(y_test, y_pred))\n"
      ],
      "metadata": {
        "id": "yi5MGqikY-lh"
      },
      "execution_count": null,
      "outputs": []
    },
    {
      "cell_type": "markdown",
      "source": [
        "Write a Python program to train an SVM Classifier and a Naïve Bayes Classifier on the same dataset and\n",
        "compare their accuracy"
      ],
      "metadata": {
        "id": "f2tnv20dZLIA"
      }
    },
    {
      "cell_type": "code",
      "source": [
        "# Import necessary libraries\n",
        "from sklearn import datasets\n",
        "from sklearn.model_selection import train_test_split\n",
        "from sklearn.preprocessing import StandardScaler\n",
        "from sklearn.svm import SVC\n",
        "from sklearn.naive_bayes import GaussianNB\n",
        "from sklearn.metrics import accuracy_score, classification_report\n",
        "\n",
        "# 1. Load dataset (Iris dataset)\n",
        "iris = datasets.load_iris()\n",
        "X = iris.data\n",
        "y = iris.target\n",
        "\n",
        "# 2. Split dataset into training and testing sets\n",
        "X_train, X_test, y_train, y_test = train_test_split(\n",
        "    X, y, test_size=0.3, random_state=42\n",
        ")\n",
        "\n",
        "# 3. Standardize features (important for SVM)\n",
        "scaler = StandardScaler()\n",
        "X_train = scaler.fit_transform(X_train)\n",
        "X_test = scaler.transform(X_test)\n",
        "\n",
        "# 4. Train SVM Classifier\n",
        "svm_clf = SVC(kernel='rbf', C=1.0, gamma='scale', random_state=42)\n",
        "svm_clf.fit(X_train, y_train)\n",
        "y_pred_svm = svm_clf.predict(X_test)\n",
        "\n",
        "# 5. Train Naïve Bayes Classifier\n",
        "nb_clf = GaussianNB()\n",
        "nb_clf.fit(X_train, y_train)\n",
        "y_pred_nb = nb_clf.predict(X_test)\n",
        "\n",
        "# 6. Evaluate both models\n",
        "print(\"=== SVM Classifier ===\")\n",
        "print(\"Accuracy:\", accuracy_score(y_test, y_pred_svm))\n",
        "print(classification_report(y_test, y_pred_svm))\n",
        "\n",
        "print(\"\\n=== Naïve Bayes Classifier ===\")\n",
        "print(\"Accuracy:\", accuracy_score(y_test, y_pred_nb))\n",
        "print(classification_report(y_test, y_pred_nb))\n",
        "\n",
        "# 7. Compare accuracies\n",
        "acc_svm = accuracy_score(y_test, y_pred_svm)\n",
        "acc_nb = accuracy_score(y_test, y_pred_nb)\n",
        "\n",
        "print(\"\\n=== Model Comparison ===\")\n",
        "if acc_svm > acc_nb:\n",
        "    print(f\"SVM performed better ({acc_svm:.2f} vs {acc_nb:.2f})\")\n",
        "elif acc_nb > acc_svm:\n",
        "    print(f\"Naïve Bayes performed better ({acc_nb:.2f} vs {acc_svm:.2f})\")\n",
        "else:\n",
        "    print(f\"Both performed equally well ({acc_svm:.2f})\")\n"
      ],
      "metadata": {
        "colab": {
          "base_uri": "https://localhost:8080/"
        },
        "id": "fDp5A8crZPYa",
        "outputId": "3a4b63eb-1af3-4706-e8f9-da79ce99af87"
      },
      "execution_count": 4,
      "outputs": [
        {
          "output_type": "stream",
          "name": "stdout",
          "text": [
            "=== SVM Classifier ===\n",
            "Accuracy: 1.0\n",
            "              precision    recall  f1-score   support\n",
            "\n",
            "           0       1.00      1.00      1.00        19\n",
            "           1       1.00      1.00      1.00        13\n",
            "           2       1.00      1.00      1.00        13\n",
            "\n",
            "    accuracy                           1.00        45\n",
            "   macro avg       1.00      1.00      1.00        45\n",
            "weighted avg       1.00      1.00      1.00        45\n",
            "\n",
            "\n",
            "=== Naïve Bayes Classifier ===\n",
            "Accuracy: 0.9777777777777777\n",
            "              precision    recall  f1-score   support\n",
            "\n",
            "           0       1.00      1.00      1.00        19\n",
            "           1       1.00      0.92      0.96        13\n",
            "           2       0.93      1.00      0.96        13\n",
            "\n",
            "    accuracy                           0.98        45\n",
            "   macro avg       0.98      0.97      0.97        45\n",
            "weighted avg       0.98      0.98      0.98        45\n",
            "\n",
            "\n",
            "=== Model Comparison ===\n",
            "SVM performed better (1.00 vs 0.98)\n"
          ]
        }
      ]
    },
    {
      "cell_type": "markdown",
      "source": [
        "Write a Python program to perform feature selection before training a Naïve Bayes classifier and compare\n",
        "results"
      ],
      "metadata": {
        "id": "uij0yYtJZa9-"
      }
    },
    {
      "cell_type": "code",
      "source": [
        "# Import necessary libraries\n",
        "from sklearn import datasets\n",
        "from sklearn.model_selection import train_test_split\n",
        "from sklearn.preprocessing import StandardScaler\n",
        "from sklearn.naive_bayes import GaussianNB\n",
        "from sklearn.feature_selection import SelectKBest, chi2\n",
        "from sklearn.metrics import accuracy_score, classification_report\n",
        "\n",
        "# 1. Load dataset\n",
        "iris = datasets.load_iris()\n",
        "X = iris.data\n",
        "y = iris.target\n",
        "\n",
        "# 2. Split dataset into training and testing sets\n",
        "X_train, X_test, y_train, y_test = train_test_split(\n",
        "    X, y, test_size=0.3, random_state=42\n",
        ")\n",
        "\n",
        "# 3. Standardize features\n",
        "scaler = StandardScaler()\n",
        "X_train = scaler.fit_transform(X_train)\n",
        "X_test = scaler.transform(X_test)\n",
        "\n",
        "# 4. Train Naïve Bayes without feature selection\n",
        "nb_full = GaussianNB()\n",
        "nb_full.fit(X_train, y_train)\n",
        "y_pred_full = nb_full.predict(X_test)\n",
        "\n",
        "print(\"=== Without Feature Selection ===\")\n",
        "print(\"Accuracy:\", accuracy_score(y_test, y_pred_full))\n",
        "print(classification_report(y_test, y_pred_full))\n",
        "\n",
        "# 5. Apply feature selection (Select top 2 features using chi-square test)\n",
        "selector = SelectKBest(score_func=chi2, k=2)\n",
        "X_train_selected = selector.fit_transform(abs(X_train), y_train)  # abs() to avoid negative values for chi2\n",
        "X_test_selected = selector.transform(abs(X_test))\n",
        "\n",
        "# 6. Train Naïve Bayes after feature selection\n",
        "nb_selected = GaussianNB()\n",
        "nb_selected.fit(X_train_selected, y_train)\n",
        "y_pred_selected = nb_selected.predict(X_test_selected)\n",
        "\n",
        "print(\"\\n=== With Feature Selection (Top 2 Features) ===\")\n",
        "print(\"Accuracy:\", accuracy_score(y_test, y_pred_selected))\n",
        "print(classification_report(y_test, y_pred_selected))\n",
        "\n",
        "# 7. Compare accuracies\n",
        "acc_full = accuracy_score(y_test, y_pred_full)\n",
        "acc_selected = accuracy_score(y_test, y_pred_selected)\n",
        "\n",
        "print(\"\\n=== Comparison Summary ===\")\n",
        "print(f\"Accuracy without feature selection: {acc_full:.3f}\")\n",
        "print(f\"Accuracy with feature selection:    {acc_selected:.3f}\")\n",
        "\n",
        "if acc_selected > acc_full:\n",
        "    print(\"✅ Feature selection improved accuracy!\")\n",
        "elif acc_selected < acc_full:\n",
        "    print(\"⚠️ Feature selection reduced accuracy.\")\n",
        "else:\n",
        "    print(\"ℹ️ Accuracy remained the same.\")\n"
      ],
      "metadata": {
        "colab": {
          "base_uri": "https://localhost:8080/"
        },
        "id": "SDlzlb_5ZZvA",
        "outputId": "8be1360d-f71d-4320-e6ed-5cbb638ee24d"
      },
      "execution_count": 5,
      "outputs": [
        {
          "output_type": "stream",
          "name": "stdout",
          "text": [
            "=== Without Feature Selection ===\n",
            "Accuracy: 0.9777777777777777\n",
            "              precision    recall  f1-score   support\n",
            "\n",
            "           0       1.00      1.00      1.00        19\n",
            "           1       1.00      0.92      0.96        13\n",
            "           2       0.93      1.00      0.96        13\n",
            "\n",
            "    accuracy                           0.98        45\n",
            "   macro avg       0.98      0.97      0.97        45\n",
            "weighted avg       0.98      0.98      0.98        45\n",
            "\n",
            "\n",
            "=== With Feature Selection (Top 2 Features) ===\n",
            "Accuracy: 0.9555555555555556\n",
            "              precision    recall  f1-score   support\n",
            "\n",
            "           0       0.90      1.00      0.95        19\n",
            "           1       1.00      1.00      1.00        13\n",
            "           2       1.00      0.85      0.92        13\n",
            "\n",
            "    accuracy                           0.96        45\n",
            "   macro avg       0.97      0.95      0.96        45\n",
            "weighted avg       0.96      0.96      0.95        45\n",
            "\n",
            "\n",
            "=== Comparison Summary ===\n",
            "Accuracy without feature selection: 0.978\n",
            "Accuracy with feature selection:    0.956\n",
            "⚠️ Feature selection reduced accuracy.\n"
          ]
        }
      ]
    },
    {
      "cell_type": "markdown",
      "source": [
        "Write a Python program to train an SVM Classifier using One-vs-Rest (OvR) and One-vs-One (OvO)\n",
        "strategies on the Wine dataset and compare their accuracy"
      ],
      "metadata": {
        "id": "aqUvWHiwZnwu"
      }
    },
    {
      "cell_type": "code",
      "source": [
        "# Import necessary libraries\n",
        "from sklearn import datasets\n",
        "from sklearn.model_selection import train_test_split\n",
        "from sklearn.preprocessing import StandardScaler\n",
        "from sklearn.svm import SVC\n",
        "from sklearn.multiclass import OneVsRestClassifier, OneVsOneClassifier\n",
        "from sklearn.metrics import accuracy_score, classification_report\n",
        "\n",
        "# 1. Load the Wine dataset\n",
        "wine = datasets.load_wine()\n",
        "X = wine.data\n",
        "y = wine.target\n",
        "\n",
        "# 2. Split the dataset into training and testing sets\n",
        "X_train, X_test, y_train, y_test = train_test_split(\n",
        "    X, y, test_size=0.3, random_state=42, stratify=y\n",
        ")\n",
        "\n",
        "# 3. Standardize features (important for SVM)\n",
        "scaler = StandardScaler()\n",
        "X_train = scaler.fit_transform(X_train)\n",
        "X_test = scaler.transform(X_test)\n",
        "\n",
        "# 4. Train SVM Classifier using One-vs-Rest (OvR)\n",
        "ovr_svm = OneVsRestClassifier(SVC(kernel='rbf', gamma='scale', C=1.0, random_state=42))\n",
        "ovr_svm.fit(X_train, y_train)\n",
        "y_pred_ovr = ovr_svm.predict(X_test)\n",
        "\n",
        "# 5. Train SVM Classifier using One-vs-One (OvO)\n",
        "ovo_svm = OneVsOneClassifier(SVC(kernel='rbf', gamma='scale', C=1.0, random_state=42))\n",
        "ovo_svm.fit(X_train, y_train)\n",
        "y_pred_ovo = ovo_svm.predict(X_test)\n",
        "\n",
        "# 6. Evaluate and compare both models\n",
        "print(\"=== SVM with One-vs-Rest (OvR) ===\")\n",
        "print(\"Accuracy:\", accuracy_score(y_test, y_pred_ovr))\n",
        "print(classification_report(y_test, y_pred_ovr))\n",
        "\n",
        "print(\"\\n=== SVM with One-vs-One (OvO) ===\")\n",
        "print(\"Accuracy:\", accuracy_score(y_test, y_pred_ovo))\n",
        "print(classification_report(y_test, y_pred_ovo))\n",
        "\n",
        "# 7. Compare accuracies\n",
        "acc_ovr = accuracy_score(y_test, y_pred_ovr)\n",
        "acc_ovo = accuracy_score(y_test, y_pred_ovo)\n",
        "\n",
        "print(\"\\n=== Model Comparison ===\")\n",
        "print(f\"Accuracy (OvR): {acc_ovr:.3f}\")\n",
        "print(f\"Accuracy (OvO): {acc_ovo:.3f}\")\n",
        "\n",
        "if acc_ovr > acc_ovo:\n",
        "    print(\"✅ One-vs-Rest performed better.\")\n",
        "elif acc_ovo > acc_ovr:\n",
        "    print(\"✅ One-vs-One performed better.\")\n",
        "else:\n",
        "    print(\"ℹ️ Both performed equally well.\")\n"
      ],
      "metadata": {
        "colab": {
          "base_uri": "https://localhost:8080/"
        },
        "id": "2IzF0LdFZmkB",
        "outputId": "8a646245-20f8-41b2-c17e-ae6f5b51e3fc"
      },
      "execution_count": 6,
      "outputs": [
        {
          "output_type": "stream",
          "name": "stdout",
          "text": [
            "=== SVM with One-vs-Rest (OvR) ===\n",
            "Accuracy: 0.9814814814814815\n",
            "              precision    recall  f1-score   support\n",
            "\n",
            "           0       1.00      1.00      1.00        18\n",
            "           1       0.95      1.00      0.98        21\n",
            "           2       1.00      0.93      0.97        15\n",
            "\n",
            "    accuracy                           0.98        54\n",
            "   macro avg       0.98      0.98      0.98        54\n",
            "weighted avg       0.98      0.98      0.98        54\n",
            "\n",
            "\n",
            "=== SVM with One-vs-One (OvO) ===\n",
            "Accuracy: 0.9814814814814815\n",
            "              precision    recall  f1-score   support\n",
            "\n",
            "           0       1.00      1.00      1.00        18\n",
            "           1       0.95      1.00      0.98        21\n",
            "           2       1.00      0.93      0.97        15\n",
            "\n",
            "    accuracy                           0.98        54\n",
            "   macro avg       0.98      0.98      0.98        54\n",
            "weighted avg       0.98      0.98      0.98        54\n",
            "\n",
            "\n",
            "=== Model Comparison ===\n",
            "Accuracy (OvR): 0.981\n",
            "Accuracy (OvO): 0.981\n",
            "ℹ️ Both performed equally well.\n"
          ]
        }
      ]
    },
    {
      "cell_type": "markdown",
      "source": [
        "Write a Python program to train an SVM Classifier using Linear, Polynomial, and RBF kernels on the Breast\n",
        "Cancer dataset and compare their accuracy"
      ],
      "metadata": {
        "id": "pAWoobbvZ0vy"
      }
    },
    {
      "cell_type": "code",
      "source": [
        "# Import necessary libraries\n",
        "from sklearn import datasets\n",
        "from sklearn.model_selection import train_test_split\n",
        "from sklearn.preprocessing import StandardScaler\n",
        "from sklearn.svm import SVC\n",
        "from sklearn.metrics import accuracy_score, classification_report\n",
        "\n",
        "# 1. Load the Breast Cancer dataset\n",
        "cancer = datasets.load_breast_cancer()\n",
        "X = cancer.data\n",
        "y = cancer.target\n",
        "\n",
        "# 2. Split dataset into training and testing sets\n",
        "X_train, X_test, y_train, y_test = train_test_split(\n",
        "    X, y, test_size=0.3, random_state=42, stratify=y\n",
        ")\n",
        "\n",
        "# 3. Standardize the features (very important for SVM)\n",
        "scaler = StandardScaler()\n",
        "X_train = scaler.fit_transform(X_train)\n",
        "X_test = scaler.transform(X_test)\n",
        "\n",
        "# 4. Train SVM with different kernels\n",
        "kernels = ['linear', 'poly', 'rbf']\n",
        "results = {}\n",
        "\n",
        "for kernel in kernels:\n",
        "    svm = SVC(kernel=kernel, gamma='scale', C=1.0, random_state=42)\n",
        "    svm.fit(X_train, y_train)\n",
        "    y_pred = svm.predict(X_test)\n",
        "\n",
        "    acc = accuracy_score(y_test, y_pred)\n",
        "    results[kernel] = acc\n",
        "\n",
        "    print(f\"\\n=== SVM with {kernel.upper()} Kernel ===\")\n",
        "    print(\"Accuracy:\", acc)\n",
        "    print(classification_report(y_test, y_pred, target_names=['Benign', 'Malignant']))\n",
        "\n",
        "# 5. Compare accuracies\n",
        "print(\"\\n=== Kernel Comparison Summary ===\")\n",
        "for k, v in results.items():\n",
        "    print(f\"{k.upper()} Kernel Accuracy: {v:.3f}\")\n",
        "\n",
        "best_kernel = max(results, key=results.get)\n",
        "print(f\"\\n✅ Best performing kernel: {best_kernel.upper()} ({results[best_kernel]:.3f})\")\n"
      ],
      "metadata": {
        "colab": {
          "base_uri": "https://localhost:8080/"
        },
        "id": "IqYcpUnFZzJB",
        "outputId": "af987c34-f88f-4649-ee3d-3cdb651f6c46"
      },
      "execution_count": 7,
      "outputs": [
        {
          "output_type": "stream",
          "name": "stdout",
          "text": [
            "\n",
            "=== SVM with LINEAR Kernel ===\n",
            "Accuracy: 0.9824561403508771\n",
            "              precision    recall  f1-score   support\n",
            "\n",
            "      Benign       0.98      0.97      0.98        64\n",
            "   Malignant       0.98      0.99      0.99       107\n",
            "\n",
            "    accuracy                           0.98       171\n",
            "   macro avg       0.98      0.98      0.98       171\n",
            "weighted avg       0.98      0.98      0.98       171\n",
            "\n",
            "\n",
            "=== SVM with POLY Kernel ===\n",
            "Accuracy: 0.8947368421052632\n",
            "              precision    recall  f1-score   support\n",
            "\n",
            "      Benign       1.00      0.72      0.84        64\n",
            "   Malignant       0.86      1.00      0.92       107\n",
            "\n",
            "    accuracy                           0.89       171\n",
            "   macro avg       0.93      0.86      0.88       171\n",
            "weighted avg       0.91      0.89      0.89       171\n",
            "\n",
            "\n",
            "=== SVM with RBF Kernel ===\n",
            "Accuracy: 0.9766081871345029\n",
            "              precision    recall  f1-score   support\n",
            "\n",
            "      Benign       0.97      0.97      0.97        64\n",
            "   Malignant       0.98      0.98      0.98       107\n",
            "\n",
            "    accuracy                           0.98       171\n",
            "   macro avg       0.98      0.98      0.98       171\n",
            "weighted avg       0.98      0.98      0.98       171\n",
            "\n",
            "\n",
            "=== Kernel Comparison Summary ===\n",
            "LINEAR Kernel Accuracy: 0.982\n",
            "POLY Kernel Accuracy: 0.895\n",
            "RBF Kernel Accuracy: 0.977\n",
            "\n",
            "✅ Best performing kernel: LINEAR (0.982)\n"
          ]
        }
      ]
    },
    {
      "cell_type": "markdown",
      "source": [
        "Write a Python program to train an SVM Classifier using Stratified K-Fold Cross-Validation and compute the\n",
        "average accuracy"
      ],
      "metadata": {
        "id": "vzZWwS9KZ_v4"
      }
    },
    {
      "cell_type": "code",
      "source": [
        "# Import necessary libraries\n",
        "from sklearn import datasets\n",
        "from sklearn.model_selection import StratifiedKFold, cross_val_score\n",
        "from sklearn.preprocessing import StandardScaler\n",
        "from sklearn.svm import SVC\n",
        "import numpy as np\n",
        "\n",
        "# 1. Load the Breast Cancer dataset\n",
        "cancer = datasets.load_breast_cancer()\n",
        "X = cancer.data\n",
        "y = cancer.target\n",
        "\n",
        "# 2. Standardize features\n",
        "scaler = StandardScaler()\n",
        "X_scaled = scaler.fit_transform(X)\n",
        "\n",
        "# 3. Define SVM classifier\n",
        "svm = SVC(kernel='rbf', gamma='scale', C=1.0, random_state=42)\n",
        "\n",
        "# 4. Define Stratified K-Fold (preserves class ratios in each fold)\n",
        "skf = StratifiedKFold(n_splits=5, shuffle=True, random_state=42)\n",
        "\n",
        "# 5. Perform cross-validation\n",
        "scores = cross_val_score(svm, X_scaled, y, cv=skf, scoring='accuracy')\n",
        "\n",
        "# 6. Display results\n",
        "print(\"=== Stratified K-Fold Cross-Validation (SVM) ===\")\n",
        "print(f\"Fold Accuracies: {np.round(scores, 4)}\")\n",
        "print(f\"Average Accuracy: {scores.mean():.4f}\")\n",
        "print(f\"Standard Deviation: {scores.std():.4f}\")\n"
      ],
      "metadata": {
        "colab": {
          "base_uri": "https://localhost:8080/"
        },
        "id": "hEOfIj4nZ-yN",
        "outputId": "f0a355ae-6b73-4826-cf14-e2740e65d3a5"
      },
      "execution_count": 8,
      "outputs": [
        {
          "output_type": "stream",
          "name": "stdout",
          "text": [
            "=== Stratified K-Fold Cross-Validation (SVM) ===\n",
            "Fold Accuracies: [0.9912 0.9386 0.9737 0.9912 0.9823]\n",
            "Average Accuracy: 0.9754\n",
            "Standard Deviation: 0.0195\n"
          ]
        }
      ]
    },
    {
      "cell_type": "markdown",
      "source": [
        "Write a Python program to train a Naïve Bayes classifier using different prior probabilities and compare\n",
        "performance"
      ],
      "metadata": {
        "id": "mtIwiOy9aIUa"
      }
    },
    {
      "cell_type": "code",
      "source": [
        "# Import necessary libraries\n",
        "from sklearn import datasets\n",
        "from sklearn.model_selection import train_test_split\n",
        "from sklearn.preprocessing import StandardScaler\n",
        "from sklearn.naive_bayes import GaussianNB\n",
        "from sklearn.metrics import accuracy_score, classification_report\n",
        "\n",
        "# 1. Load the Iris dataset\n",
        "iris = datasets.load_iris()\n",
        "X = iris.data\n",
        "y = iris.target\n",
        "\n",
        "# 2. Split dataset into training and testing sets\n",
        "X_train, X_test, y_train, y_test = train_test_split(\n",
        "    X, y, test_size=0.3, random_state=42, stratify=y\n",
        ")\n",
        "\n",
        "# 3. Standardize features\n",
        "scaler = StandardScaler()\n",
        "X_train = scaler.fit_transform(X_train)\n",
        "X_test = scaler.transform(X_test)\n",
        "\n",
        "# 4. Define different prior probability configurations\n",
        "priors_list = [\n",
        "    None,                   # Let the model learn priors from data\n",
        "    [0.5, 0.3, 0.2],        # Custom prior distribution 1\n",
        "    [0.2, 0.5, 0.3],        # Custom prior distribution 2\n",
        "    [1/3, 1/3, 1/3]         # Equal priors\n",
        "]\n",
        "\n",
        "# 5. Train and evaluate Naïve Bayes models with different priors\n",
        "results = {}\n",
        "\n",
        "for i, priors in enumerate(priors_list):\n",
        "    nb = GaussianNB(priors=priors)\n",
        "    nb.fit(X_train, y_train)\n",
        "    y_pred = nb.predict(X_test)\n",
        "    acc = accuracy_score(y_test, y_pred)\n",
        "    results[f\"Model {i+1} (priors={priors})\"] = acc\n",
        "\n",
        "    print(f\"\\n=== Naïve Bayes Model {i+1} ===\")\n",
        "    print(f\"Priors: {priors}\")\n",
        "    print(\"Accuracy:\", acc)\n",
        "    print(classification_report(y_test, y_pred))\n",
        "\n",
        "# 6. Compare all results\n",
        "print(\"\\n=== Comparison Summary ===\")\n",
        "for model, acc in results.items():\n",
        "    print(f\"{model} → Accuracy: {acc:.3f}\")\n",
        "\n",
        "best_model = max(results, key=results.get)\n",
        "print(f\"\\n✅ Best performing model: {best_model}\")\n"
      ],
      "metadata": {
        "colab": {
          "base_uri": "https://localhost:8080/"
        },
        "id": "IPSu3WYDaHd3",
        "outputId": "99dce11f-39c8-4a73-f147-354d22e35e29"
      },
      "execution_count": 9,
      "outputs": [
        {
          "output_type": "stream",
          "name": "stdout",
          "text": [
            "\n",
            "=== Naïve Bayes Model 1 ===\n",
            "Priors: None\n",
            "Accuracy: 0.9111111111111111\n",
            "              precision    recall  f1-score   support\n",
            "\n",
            "           0       1.00      1.00      1.00        15\n",
            "           1       0.82      0.93      0.88        15\n",
            "           2       0.92      0.80      0.86        15\n",
            "\n",
            "    accuracy                           0.91        45\n",
            "   macro avg       0.92      0.91      0.91        45\n",
            "weighted avg       0.92      0.91      0.91        45\n",
            "\n",
            "\n",
            "=== Naïve Bayes Model 2 ===\n",
            "Priors: [0.5, 0.3, 0.2]\n",
            "Accuracy: 0.9111111111111111\n",
            "              precision    recall  f1-score   support\n",
            "\n",
            "           0       1.00      1.00      1.00        15\n",
            "           1       0.82      0.93      0.88        15\n",
            "           2       0.92      0.80      0.86        15\n",
            "\n",
            "    accuracy                           0.91        45\n",
            "   macro avg       0.92      0.91      0.91        45\n",
            "weighted avg       0.92      0.91      0.91        45\n",
            "\n",
            "\n",
            "=== Naïve Bayes Model 3 ===\n",
            "Priors: [0.2, 0.5, 0.3]\n",
            "Accuracy: 0.9111111111111111\n",
            "              precision    recall  f1-score   support\n",
            "\n",
            "           0       1.00      1.00      1.00        15\n",
            "           1       0.82      0.93      0.88        15\n",
            "           2       0.92      0.80      0.86        15\n",
            "\n",
            "    accuracy                           0.91        45\n",
            "   macro avg       0.92      0.91      0.91        45\n",
            "weighted avg       0.92      0.91      0.91        45\n",
            "\n",
            "\n",
            "=== Naïve Bayes Model 4 ===\n",
            "Priors: [0.3333333333333333, 0.3333333333333333, 0.3333333333333333]\n",
            "Accuracy: 0.9111111111111111\n",
            "              precision    recall  f1-score   support\n",
            "\n",
            "           0       1.00      1.00      1.00        15\n",
            "           1       0.82      0.93      0.88        15\n",
            "           2       0.92      0.80      0.86        15\n",
            "\n",
            "    accuracy                           0.91        45\n",
            "   macro avg       0.92      0.91      0.91        45\n",
            "weighted avg       0.92      0.91      0.91        45\n",
            "\n",
            "\n",
            "=== Comparison Summary ===\n",
            "Model 1 (priors=None) → Accuracy: 0.911\n",
            "Model 2 (priors=[0.5, 0.3, 0.2]) → Accuracy: 0.911\n",
            "Model 3 (priors=[0.2, 0.5, 0.3]) → Accuracy: 0.911\n",
            "Model 4 (priors=[0.3333333333333333, 0.3333333333333333, 0.3333333333333333]) → Accuracy: 0.911\n",
            "\n",
            "✅ Best performing model: Model 1 (priors=None)\n"
          ]
        }
      ]
    },
    {
      "cell_type": "markdown",
      "source": [
        "Write a Python program to perform Recursive Feature Elimination (RFE) before training an SVM Classifier and\n",
        "compare accuracy"
      ],
      "metadata": {
        "id": "rRgzFRwOaSMV"
      }
    },
    {
      "cell_type": "code",
      "source": [
        "# Import necessary libraries\n",
        "from sklearn import datasets\n",
        "from sklearn.model_selection import train_test_split\n",
        "from sklearn.preprocessing import StandardScaler\n",
        "from sklearn.svm import SVC\n",
        "from sklearn.feature_selection import RFE\n",
        "from sklearn.metrics import accuracy_score\n",
        "\n",
        "# 1. Load dataset\n",
        "cancer = datasets.load_breast_cancer()\n",
        "X = cancer.data\n",
        "y = cancer.target\n",
        "\n",
        "# 2. Split dataset into training and testing sets\n",
        "X_train, X_test, y_train, y_test = train_test_split(\n",
        "    X, y, test_size=0.3, random_state=42, stratify=y\n",
        ")\n",
        "\n",
        "# 3. Standardize features\n",
        "scaler = StandardScaler()\n",
        "X_train_scaled = scaler.fit_transform(X_train)\n",
        "X_test_scaled = scaler.transform(X_test)\n",
        "\n",
        "# 4. Train baseline SVM (without feature selection)\n",
        "svm_baseline = SVC(kernel='linear', random_state=42)\n",
        "svm_baseline.fit(X_train_scaled, y_train)\n",
        "y_pred_base = svm_baseline.predict(X_test_scaled)\n",
        "base_accuracy = accuracy_score(y_test, y_pred_base)\n",
        "\n",
        "# 5. Perform Recursive Feature Elimination (RFE)\n",
        "# Select top 10 features\n",
        "rfe = RFE(estimator=SVC(kernel='linear'), n_features_to_select=10)\n",
        "rfe.fit(X_train_scaled, y_train)\n",
        "\n",
        "# Transform the dataset to keep only selected features\n",
        "X_train_rfe = rfe.transform(X_train_scaled)\n",
        "X_test_rfe = rfe.transform(X_test_scaled)\n",
        "\n",
        "# 6. Train SVM on selected features\n",
        "svm_rfe = SVC(kernel='linear', random_state=42)\n",
        "svm_rfe.fit(X_train_rfe, y_train)\n",
        "y_pred_rfe = svm_rfe.predict(X_test_rfe)\n",
        "rfe_accuracy = accuracy_score(y_test, y_pred_rfe)\n",
        "\n",
        "# 7. Compare results\n",
        "print(\"=== SVM Classifier Performance Comparison ===\")\n",
        "print(f\"Baseline Accuracy (All Features): {base_accuracy:.4f}\")\n",
        "print(f\"RFE Accuracy (Top 10 Features):   {rfe_accuracy:.4f}\")\n",
        "\n",
        "# 8. Display selected features\n",
        "selected_features = [feature for feature, selected in zip(cancer.feature_names, rfe.support_) if selected]\n",
        "print(\"\\nSelected Features (via RFE):\")\n",
        "for f in selected_features:\n",
        "    print(\" -\", f)\n"
      ],
      "metadata": {
        "colab": {
          "base_uri": "https://localhost:8080/"
        },
        "id": "RcAd9-S_aRJ9",
        "outputId": "4adc851a-da1b-4423-bba8-17630e4d1716"
      },
      "execution_count": 10,
      "outputs": [
        {
          "output_type": "stream",
          "name": "stdout",
          "text": [
            "=== SVM Classifier Performance Comparison ===\n",
            "Baseline Accuracy (All Features): 0.9825\n",
            "RFE Accuracy (Top 10 Features):   0.9649\n",
            "\n",
            "Selected Features (via RFE):\n",
            " - area error\n",
            " - worst radius\n",
            " - worst texture\n",
            " - worst perimeter\n",
            " - worst area\n",
            " - worst smoothness\n",
            " - worst compactness\n",
            " - worst concavity\n",
            " - worst concave points\n",
            " - worst symmetry\n"
          ]
        }
      ]
    },
    {
      "cell_type": "markdown",
      "source": [
        "Write a Python program to train an SVM Classifier and evaluate its performance using Precision, Recall, and\n",
        "F1-Score instead of accuracy"
      ],
      "metadata": {
        "id": "w3O59AQBacUb"
      }
    },
    {
      "cell_type": "code",
      "source": [
        "# Import necessary libraries\n",
        "from sklearn import datasets\n",
        "from sklearn.model_selection import train_test_split\n",
        "from sklearn.preprocessing import StandardScaler\n",
        "from sklearn.svm import SVC\n",
        "from sklearn.metrics import classification_report, precision_score, recall_score, f1_score\n",
        "\n",
        "# 1. Load dataset\n",
        "cancer = datasets.load_breast_cancer()\n",
        "X = cancer.data\n",
        "y = cancer.target\n",
        "\n",
        "# 2. Split dataset into training and testing sets\n",
        "X_train, X_test, y_train, y_test = train_test_split(\n",
        "    X, y, test_size=0.3, random_state=42, stratify=y\n",
        ")\n",
        "\n",
        "# 3. Standardize features\n",
        "scaler = StandardScaler()\n",
        "X_train_scaled = scaler.fit_transform(X_train)\n",
        "X_test_scaled = scaler.transform(X_test)\n",
        "\n",
        "# 4. Train SVM Classifier\n",
        "svm_clf = SVC(kernel='rbf', C=1.0, gamma='scale', random_state=42)\n",
        "svm_clf.fit(X_train_scaled, y_train)\n",
        "\n",
        "# 5. Predict on test data\n",
        "y_pred = svm_clf.predict(X_test_scaled)\n",
        "\n",
        "# 6. Evaluate using Precision, Recall, F1-Score\n",
        "precision = precision_score(y_test, y_pred)\n",
        "recall = recall_score(y_test, y_pred)\n",
        "f1 = f1_score(y_test, y_pred)\n",
        "\n",
        "print(\"=== SVM Classifier Performance ===\")\n",
        "print(f\"Precision: {precision:.4f}\")\n",
        "print(f\"Recall:    {recall:.4f}\")\n",
        "print(f\"F1-Score:  {f1:.4f}\")\n",
        "\n",
        "# 7. Detailed classification report\n",
        "print(\"\\n=== Detailed Classification Report ===\")\n",
        "print(classification_report(y_test, y_pred, target_names=['Benign', 'Malignant']))\n"
      ],
      "metadata": {
        "colab": {
          "base_uri": "https://localhost:8080/"
        },
        "id": "1gLS6RPcabQ8",
        "outputId": "c3e13dd4-e68c-4e75-97c5-d38a167567a1"
      },
      "execution_count": 11,
      "outputs": [
        {
          "output_type": "stream",
          "name": "stdout",
          "text": [
            "=== SVM Classifier Performance ===\n",
            "Precision: 0.9813\n",
            "Recall:    0.9813\n",
            "F1-Score:  0.9813\n",
            "\n",
            "=== Detailed Classification Report ===\n",
            "              precision    recall  f1-score   support\n",
            "\n",
            "      Benign       0.97      0.97      0.97        64\n",
            "   Malignant       0.98      0.98      0.98       107\n",
            "\n",
            "    accuracy                           0.98       171\n",
            "   macro avg       0.98      0.98      0.98       171\n",
            "weighted avg       0.98      0.98      0.98       171\n",
            "\n"
          ]
        }
      ]
    },
    {
      "cell_type": "markdown",
      "source": [
        "Write a Python program to train a Naïve Bayes Classifier and evaluate its performance using Log Loss\n",
        "(Cross-Entropy Loss)"
      ],
      "metadata": {
        "id": "ZWeCHotBaqLw"
      }
    },
    {
      "cell_type": "code",
      "source": [
        "# Import necessary libraries\n",
        "from sklearn import datasets\n",
        "from sklearn.model_selection import train_test_split\n",
        "from sklearn.preprocessing import StandardScaler\n",
        "from sklearn.naive_bayes import GaussianNB\n",
        "from sklearn.metrics import log_loss, classification_report, accuracy_score\n",
        "\n",
        "# 1. Load dataset\n",
        "iris = datasets.load_iris()\n",
        "X = iris.data\n",
        "y = iris.target\n",
        "\n",
        "# 2. Split dataset into training and testing sets\n",
        "X_train, X_test, y_train, y_test = train_test_split(\n",
        "    X, y, test_size=0.3, random_state=42, stratify=y\n",
        ")\n",
        "\n",
        "# 3. Standardize features\n",
        "scaler = StandardScaler()\n",
        "X_train_scaled = scaler.fit_transform(X_train)\n",
        "X_test_scaled = scaler.transform(X_test)\n",
        "\n",
        "# 4. Train Naïve Bayes Classifier\n",
        "nb_clf = GaussianNB()\n",
        "nb_clf.fit(X_train_scaled, y_train)\n",
        "\n",
        "# 5. Predict class probabilities (needed for log loss)\n",
        "y_prob = nb_clf.predict_proba(X_test_scaled)\n",
        "\n",
        "# 6. Evaluate using Log Loss\n",
        "loss = log_loss(y_test, y_prob)\n",
        "\n",
        "# 7. Additional evaluation (optional)\n",
        "y_pred = nb_clf.predict(X_test_scaled)\n",
        "accuracy = accuracy_score(y_test, y_pred)\n",
        "\n",
        "print(\"=== Naïve Bayes Performance ===\")\n",
        "print(f\"Log Loss (Cross-Entropy Loss): {loss:.4f}\")\n",
        "print(f\"Accuracy: {accuracy:.4f}\")\n",
        "print(\"\\nClassification Report:\")\n",
        "print(classification_report(y_test, y_pred, target_names=iris.target_names))\n"
      ],
      "metadata": {
        "colab": {
          "base_uri": "https://localhost:8080/"
        },
        "id": "XaNj2wN-akxN",
        "outputId": "3d97a0eb-18d5-4973-e35a-48c4cdb35c01"
      },
      "execution_count": 12,
      "outputs": [
        {
          "output_type": "stream",
          "name": "stdout",
          "text": [
            "=== Naïve Bayes Performance ===\n",
            "Log Loss (Cross-Entropy Loss): 0.2348\n",
            "Accuracy: 0.9111\n",
            "\n",
            "Classification Report:\n",
            "              precision    recall  f1-score   support\n",
            "\n",
            "      setosa       1.00      1.00      1.00        15\n",
            "  versicolor       0.82      0.93      0.88        15\n",
            "   virginica       0.92      0.80      0.86        15\n",
            "\n",
            "    accuracy                           0.91        45\n",
            "   macro avg       0.92      0.91      0.91        45\n",
            "weighted avg       0.92      0.91      0.91        45\n",
            "\n"
          ]
        }
      ]
    },
    {
      "cell_type": "markdown",
      "source": [
        "Write a Python program to train an SVM Classifier and visualize the Confusion Matrix using seaborn"
      ],
      "metadata": {
        "id": "12aI-t2oax38"
      }
    },
    {
      "cell_type": "code",
      "source": [
        "# Import necessary libraries\n",
        "from sklearn import datasets\n",
        "from sklearn.model_selection import train_test_split\n",
        "from sklearn.preprocessing import StandardScaler\n",
        "from sklearn.svm import SVC\n",
        "from sklearn.metrics import confusion_matrix, classification_report\n",
        "import seaborn as sns\n",
        "import matplotlib.pyplot as plt\n",
        "\n",
        "# 1. Load dataset\n",
        "iris = datasets.load_iris()\n",
        "X = iris.data\n",
        "y = iris.target\n",
        "class_names = iris.target_names\n",
        "\n",
        "# 2. Split dataset into training and testing sets\n",
        "X_train, X_test, y_train, y_test = train_test_split(\n",
        "    X, y, test_size=0.3, random_state=42, stratify=y\n",
        ")\n",
        "\n",
        "# 3. Standardize features\n",
        "scaler = StandardScaler()\n",
        "X_train_scaled = scaler.fit_transform(X_train)\n",
        "X_test_scaled = scaler.transform(X_test)\n",
        "\n",
        "# 4. Train SVM Classifier\n",
        "svm_clf = SVC(kernel='rbf', C=1.0, gamma='scale', random_state=42)\n",
        "svm_clf.fit(X_train_scaled, y_train)\n",
        "\n",
        "# 5. Predict on test data\n",
        "y_pred = svm_clf.predict(X_test_scaled)\n",
        "\n",
        "# 6. Compute confusion matrix\n",
        "cm = confusion_matrix(y_test, y_pred)\n",
        "\n",
        "# 7. Visualize confusion matrix using seaborn\n",
        "plt.figure(figsize=(6,5))\n",
        "sns.heatmap(cm, annot=True, fmt='d', cmap='Blues', xticklabels=class_names, yticklabels=class_names)\n",
        "plt.xlabel('Predicted Label')\n",
        "plt.ylabel('True Label')\n",
        "plt.title('Confusion Matrix - SVM Classifier')\n",
        "plt.show()\n",
        "\n",
        "# 8. Optional: print classification report\n",
        "print(\"=== Classification Report ===\")\n",
        "print(classification_report(y_test, y_pred, target_names=class_names))\n"
      ],
      "metadata": {
        "colab": {
          "base_uri": "https://localhost:8080/",
          "height": 678
        },
        "id": "ENZLWXLRav6z",
        "outputId": "9174a041-1a2d-43e4-ed1c-1f5c16501127"
      },
      "execution_count": 13,
      "outputs": [
        {
          "output_type": "display_data",
          "data": {
            "text/plain": [
              "<Figure size 600x500 with 2 Axes>"
            ],
            "image/png": "[encoded data removed]"
          },
          "metadata": {}
        },
        {
          "output_type": "stream",
          "name": "stdout",
          "text": [
            "=== Classification Report ===\n",
            "              precision    recall  f1-score   support\n",
            "\n",
            "      setosa       1.00      1.00      1.00        15\n",
            "  versicolor       0.88      0.93      0.90        15\n",
            "   virginica       0.93      0.87      0.90        15\n",
            "\n",
            "    accuracy                           0.93        45\n",
            "   macro avg       0.93      0.93      0.93        45\n",
            "weighted avg       0.93      0.93      0.93        45\n",
            "\n"
          ]
        }
      ]
    },
    {
      "cell_type": "markdown",
      "source": [
        "Write a Python program to train an SVM Regressor (SVR) and evaluate its performance using Mean Absolute\n",
        "Error (MAE) instead of MSE"
      ],
      "metadata": {
        "id": "U4ZN43xPbBqo"
      }
    },
    {
      "cell_type": "code",
      "source": [
        "# Import necessary libraries\n",
        "from sklearn.datasets import fetch_california_housing\n",
        "from sklearn.model_selection import train_test_split\n",
        "from sklearn.preprocessing import StandardScaler\n",
        "from sklearn.svm import SVR\n",
        "from sklearn.metrics import mean_absolute_error, r2_score\n",
        "\n",
        "# 1. Load dataset\n",
        "data = fetch_california_housing()\n",
        "X = data.data\n",
        "y = data.target\n",
        "\n",
        "# 2. Split dataset into training and testing sets\n",
        "X_train, X_test, y_train, y_test = train_test_split(\n",
        "    X, y, test_size=0.3, random_state=42\n",
        ")\n",
        "\n",
        "# 3. Standardize features (important for SVR)\n",
        "scaler = StandardScaler()\n",
        "X_train_scaled = scaler.fit_transform(X_train)\n",
        "X_test_scaled = scaler.transform(X_test)\n",
        "\n",
        "# 4. Train SVR model\n",
        "svr_model = SVR(kernel='rbf', C=100, gamma=0.1, epsilon=0.1)\n",
        "svr_model.fit(X_train_scaled, y_train)\n",
        "\n",
        "# 5. Predict on test data\n",
        "y_pred = svr_model.predict(X_test_scaled)\n",
        "\n",
        "# 6. Evaluate using Mean Absolute Error (MAE)\n",
        "mae = mean_absolute_error(y_test, y_pred)\n",
        "r2 = r2_score(y_test, y_pred)\n",
        "\n",
        "print(\"=== SVR Model Performance ===\")\n",
        "print(f\"Mean Absolute Error (MAE): {mae:.4f}\")\n",
        "print(f\"R^2 Score: {r2:.4f}\")\n"
      ],
      "metadata": {
        "colab": {
          "base_uri": "https://localhost:8080/"
        },
        "id": "f4SBHqF0a72G",
        "outputId": "3dc12c24-cbce-44b5-cf29-c2a381a907a3"
      },
      "execution_count": 14,
      "outputs": [
        {
          "output_type": "stream",
          "name": "stdout",
          "text": [
            "=== SVR Model Performance ===\n",
            "Mean Absolute Error (MAE): 0.3728\n",
            "R^2 Score: 0.7619\n"
          ]
        }
      ]
    },
    {
      "cell_type": "markdown",
      "source": [
        "Write a Python program to train a Naïve Bayes classifier and evaluate its performance using the ROC-AUC\n",
        "score"
      ],
      "metadata": {
        "id": "4It5a026bLK3"
      }
    },
    {
      "cell_type": "code",
      "source": [
        "# Import necessary libraries\n",
        "from sklearn import datasets\n",
        "from sklearn.model_selection import train_test_split\n",
        "from sklearn.preprocessing import StandardScaler\n",
        "from sklearn.naive_bayes import GaussianNB\n",
        "from sklearn.metrics import roc_auc_score, roc_curve\n",
        "import matplotlib.pyplot as plt\n",
        "\n",
        "# 1. Load dataset\n",
        "cancer = datasets.load_breast_cancer()\n",
        "X = cancer.data\n",
        "y = cancer.target\n",
        "\n",
        "# 2. Split dataset into training and testing sets\n",
        "X_train, X_test, y_train, y_test = train_test_split(\n",
        "    X, y, test_size=0.3, random_state=42, stratify=y\n",
        ")\n",
        "\n",
        "# 3. Standardize features\n",
        "scaler = StandardScaler()\n",
        "X_train_scaled = scaler.fit_transform(X_train)\n",
        "X_test_scaled = scaler.transform(X_test)\n",
        "\n",
        "# 4. Train Naïve Bayes Classifier\n",
        "nb_clf = GaussianNB()\n",
        "nb_clf.fit(X_train_scaled, y_train)\n",
        "\n",
        "# 5. Predict probabilities for positive class\n",
        "y_prob = nb_clf.predict_proba(X_test_scaled)[:, 1]\n",
        "\n",
        "# 6. Compute ROC-AUC score\n",
        "roc_auc = roc_auc_score(y_test, y_prob)\n",
        "print(f\"ROC-AUC Score: {roc_auc:.4f}\")\n",
        "\n",
        "# 7. Plot ROC Curve\n",
        "fpr, tpr, thresholds = roc_curve(y_test, y_prob)\n",
        "plt.figure(figsize=(6,5))\n",
        "plt.plot(fpr, tpr, color='blue', label=f'ROC curve (AUC = {roc_auc:.4f})')\n",
        "plt.plot([0, 1], [0, 1], color='red', linestyle='--', label='Random classifier')\n",
        "plt.xlabel('False Positive Rate')\n",
        "plt.ylabel('True Positive Rate')\n",
        "plt.title('ROC Curve - Naïve Bayes')\n",
        "plt.legend(loc='lower right')\n",
        "plt.show()\n"
      ],
      "metadata": {
        "colab": {
          "base_uri": "https://localhost:8080/",
          "height": 504
        },
        "id": "JRZ3rDP5bKhP",
        "outputId": "426071c0-e5c5-439c-e0f2-23c954265ef1"
      },
      "execution_count": 15,
      "outputs": [
        {
          "output_type": "stream",
          "name": "stdout",
          "text": [
            "ROC-AUC Score: 0.9892\n"
          ]
        },
        {
          "output_type": "display_data",
          "data": {
            "text/plain": [
              "<Figure size 600x500 with 1 Axes>"
            ],
            "image/png": "[encoded data removed]"
          },
          "metadata": {}
        }
      ]
    },
    {
      "cell_type": "markdown",
      "source": [
        "Write a Python program to train an SVM Classifier and visualize the Precision-Recall Curve."
      ],
      "metadata": {
        "id": "UCABg7s-barV"
      }
    },
    {
      "cell_type": "code",
      "source": [
        "# Import necessary libraries\n",
        "from sklearn import datasets\n",
        "from sklearn.model_selection import train_test_split\n",
        "from sklearn.preprocessing import StandardScaler\n",
        "from sklearn.svm import SVC\n",
        "from sklearn.metrics import precision_recall_curve, average_precision_score\n",
        "import matplotlib.pyplot as plt\n",
        "\n",
        "# 1. Load dataset\n",
        "cancer = datasets.load_breast_cancer()\n",
        "X = cancer.data\n",
        "y = cancer.target\n",
        "\n",
        "# 2. Split dataset into training and testing sets\n",
        "X_train, X_test, y_train, y_test = train_test_split(\n",
        "    X, y, test_size=0.3, random_state=42, stratify=y\n",
        ")\n",
        "\n",
        "# 3. Standardize features\n",
        "scaler = StandardScaler()\n",
        "X_train_scaled = scaler.fit_transform(X_train)\n",
        "X_test_scaled = scaler.transform(X_test)\n",
        "\n",
        "# 4. Train SVM classifier with probability estimates\n",
        "svm_clf = SVC(kernel='rbf', C=1.0, gamma='scale', probability=True, random_state=42)\n",
        "svm_clf.fit(X_train_scaled, y_train)\n",
        "\n",
        "# 5. Predict probabilities for positive class\n",
        "y_prob = svm_clf.predict_proba(X_test_scaled)[:, 1]\n",
        "\n",
        "# 6. Compute Precision-Recall curve\n",
        "precision, recall, thresholds = precision_recall_curve(y_test, y_prob)\n",
        "avg_precision = average_precision_score(y_test, y_prob)\n",
        "\n",
        "# 7. Plot Precision-Recall curve\n",
        "plt.figure(figsize=(6,5))\n",
        "plt.plot(recall, precision, color='blue', label=f'Average Precision = {avg_precision:.4f}')\n",
        "plt.xlabel('Recall')\n",
        "plt.ylabel('Precision')\n",
        "plt.title('Precision-Recall Curve - SVM Classifier')\n",
        "plt.legend(loc='lower left')\n",
        "plt.grid(True)\n",
        "plt.show()\n",
        "\n",
        "# 8. Optional: print Average Precision score\n",
        "print(f\"Average Precision Score: {avg_precision:.4f}\")\n"
      ],
      "metadata": {
        "colab": {
          "base_uri": "https://localhost:8080/",
          "height": 504
        },
        "id": "10dZA9bpbW9U",
        "outputId": "ab77d5c1-1c5b-4ea1-c5d0-674668590a79"
      },
      "execution_count": 16,
      "outputs": [
        {
          "output_type": "display_data",
          "data": {
            "text/plain": [
              "<Figure size 600x500 with 1 Axes>"
            ],
            "image/png": "[encoded data removed]"
          },
          "metadata": {}
        },
        {
          "output_type": "stream",
          "name": "stdout",
          "text": [
            "Average Precision Score: 0.9987\n"
          ]
        }
      ]
    },
    {
      "cell_type": "code",
      "source": [],
      "metadata": {
        "id": "u9KIrLGxblMl"
      },
      "execution_count": null,
      "outputs": []
    }
  ]
}